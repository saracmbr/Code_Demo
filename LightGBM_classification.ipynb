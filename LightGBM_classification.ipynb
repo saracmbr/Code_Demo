{
 "cells": [
  {
   "cell_type": "code",
   "execution_count": 84,
   "metadata": {},
   "outputs": [],
   "source": [
    "import pandas as pd, numpy as np, time\n",
    "from sklearn.model_selection import train_test_split\n"
   ]
  },
  {
   "cell_type": "code",
   "execution_count": 86,
   "metadata": {},
   "outputs": [
    {
     "name": "stdout",
     "output_type": "stream",
     "text": [
      "Wall time: 58.7 s\n"
     ]
    }
   ],
   "source": [
    "%%time\n",
    "flight= pd.read_csv('flights.csv')\n"
   ]
  },
  {
   "cell_type": "code",
   "execution_count": 87,
   "metadata": {},
   "outputs": [
    {
     "data": {
      "text/html": [
       "<div>\n",
       "<style scoped>\n",
       "    .dataframe tbody tr th:only-of-type {\n",
       "        vertical-align: middle;\n",
       "    }\n",
       "\n",
       "    .dataframe tbody tr th {\n",
       "        vertical-align: top;\n",
       "    }\n",
       "\n",
       "    .dataframe thead th {\n",
       "        text-align: right;\n",
       "    }\n",
       "</style>\n",
       "<table border=\"1\" class=\"dataframe\">\n",
       "  <thead>\n",
       "    <tr style=\"text-align: right;\">\n",
       "      <th></th>\n",
       "      <th>YEAR</th>\n",
       "      <th>MONTH</th>\n",
       "      <th>DAY</th>\n",
       "      <th>DAY_OF_WEEK</th>\n",
       "      <th>AIRLINE</th>\n",
       "      <th>FLIGHT_NUMBER</th>\n",
       "      <th>TAIL_NUMBER</th>\n",
       "      <th>ORIGIN_AIRPORT</th>\n",
       "      <th>DESTINATION_AIRPORT</th>\n",
       "      <th>SCHEDULED_DEPARTURE</th>\n",
       "      <th>...</th>\n",
       "      <th>ARRIVAL_TIME</th>\n",
       "      <th>ARRIVAL_DELAY</th>\n",
       "      <th>DIVERTED</th>\n",
       "      <th>CANCELLED</th>\n",
       "      <th>CANCELLATION_REASON</th>\n",
       "      <th>AIR_SYSTEM_DELAY</th>\n",
       "      <th>SECURITY_DELAY</th>\n",
       "      <th>AIRLINE_DELAY</th>\n",
       "      <th>LATE_AIRCRAFT_DELAY</th>\n",
       "      <th>WEATHER_DELAY</th>\n",
       "    </tr>\n",
       "  </thead>\n",
       "  <tbody>\n",
       "    <tr>\n",
       "      <th>0</th>\n",
       "      <td>2015</td>\n",
       "      <td>1</td>\n",
       "      <td>1</td>\n",
       "      <td>4</td>\n",
       "      <td>AS</td>\n",
       "      <td>98</td>\n",
       "      <td>N407AS</td>\n",
       "      <td>ANC</td>\n",
       "      <td>SEA</td>\n",
       "      <td>5</td>\n",
       "      <td>...</td>\n",
       "      <td>408.0</td>\n",
       "      <td>-22.0</td>\n",
       "      <td>0</td>\n",
       "      <td>0</td>\n",
       "      <td>NaN</td>\n",
       "      <td>NaN</td>\n",
       "      <td>NaN</td>\n",
       "      <td>NaN</td>\n",
       "      <td>NaN</td>\n",
       "      <td>NaN</td>\n",
       "    </tr>\n",
       "    <tr>\n",
       "      <th>1</th>\n",
       "      <td>2015</td>\n",
       "      <td>1</td>\n",
       "      <td>1</td>\n",
       "      <td>4</td>\n",
       "      <td>AA</td>\n",
       "      <td>2336</td>\n",
       "      <td>N3KUAA</td>\n",
       "      <td>LAX</td>\n",
       "      <td>PBI</td>\n",
       "      <td>10</td>\n",
       "      <td>...</td>\n",
       "      <td>741.0</td>\n",
       "      <td>-9.0</td>\n",
       "      <td>0</td>\n",
       "      <td>0</td>\n",
       "      <td>NaN</td>\n",
       "      <td>NaN</td>\n",
       "      <td>NaN</td>\n",
       "      <td>NaN</td>\n",
       "      <td>NaN</td>\n",
       "      <td>NaN</td>\n",
       "    </tr>\n",
       "    <tr>\n",
       "      <th>2</th>\n",
       "      <td>2015</td>\n",
       "      <td>1</td>\n",
       "      <td>1</td>\n",
       "      <td>4</td>\n",
       "      <td>US</td>\n",
       "      <td>840</td>\n",
       "      <td>N171US</td>\n",
       "      <td>SFO</td>\n",
       "      <td>CLT</td>\n",
       "      <td>20</td>\n",
       "      <td>...</td>\n",
       "      <td>811.0</td>\n",
       "      <td>5.0</td>\n",
       "      <td>0</td>\n",
       "      <td>0</td>\n",
       "      <td>NaN</td>\n",
       "      <td>NaN</td>\n",
       "      <td>NaN</td>\n",
       "      <td>NaN</td>\n",
       "      <td>NaN</td>\n",
       "      <td>NaN</td>\n",
       "    </tr>\n",
       "    <tr>\n",
       "      <th>3</th>\n",
       "      <td>2015</td>\n",
       "      <td>1</td>\n",
       "      <td>1</td>\n",
       "      <td>4</td>\n",
       "      <td>AA</td>\n",
       "      <td>258</td>\n",
       "      <td>N3HYAA</td>\n",
       "      <td>LAX</td>\n",
       "      <td>MIA</td>\n",
       "      <td>20</td>\n",
       "      <td>...</td>\n",
       "      <td>756.0</td>\n",
       "      <td>-9.0</td>\n",
       "      <td>0</td>\n",
       "      <td>0</td>\n",
       "      <td>NaN</td>\n",
       "      <td>NaN</td>\n",
       "      <td>NaN</td>\n",
       "      <td>NaN</td>\n",
       "      <td>NaN</td>\n",
       "      <td>NaN</td>\n",
       "    </tr>\n",
       "    <tr>\n",
       "      <th>4</th>\n",
       "      <td>2015</td>\n",
       "      <td>1</td>\n",
       "      <td>1</td>\n",
       "      <td>4</td>\n",
       "      <td>AS</td>\n",
       "      <td>135</td>\n",
       "      <td>N527AS</td>\n",
       "      <td>SEA</td>\n",
       "      <td>ANC</td>\n",
       "      <td>25</td>\n",
       "      <td>...</td>\n",
       "      <td>259.0</td>\n",
       "      <td>-21.0</td>\n",
       "      <td>0</td>\n",
       "      <td>0</td>\n",
       "      <td>NaN</td>\n",
       "      <td>NaN</td>\n",
       "      <td>NaN</td>\n",
       "      <td>NaN</td>\n",
       "      <td>NaN</td>\n",
       "      <td>NaN</td>\n",
       "    </tr>\n",
       "  </tbody>\n",
       "</table>\n",
       "<p>5 rows × 31 columns</p>\n",
       "</div>"
      ],
      "text/plain": [
       "   YEAR  MONTH  DAY  DAY_OF_WEEK AIRLINE  FLIGHT_NUMBER TAIL_NUMBER  \\\n",
       "0  2015      1    1            4      AS             98      N407AS   \n",
       "1  2015      1    1            4      AA           2336      N3KUAA   \n",
       "2  2015      1    1            4      US            840      N171US   \n",
       "3  2015      1    1            4      AA            258      N3HYAA   \n",
       "4  2015      1    1            4      AS            135      N527AS   \n",
       "\n",
       "  ORIGIN_AIRPORT DESTINATION_AIRPORT  SCHEDULED_DEPARTURE  ...  ARRIVAL_TIME  \\\n",
       "0            ANC                 SEA                    5  ...         408.0   \n",
       "1            LAX                 PBI                   10  ...         741.0   \n",
       "2            SFO                 CLT                   20  ...         811.0   \n",
       "3            LAX                 MIA                   20  ...         756.0   \n",
       "4            SEA                 ANC                   25  ...         259.0   \n",
       "\n",
       "   ARRIVAL_DELAY  DIVERTED  CANCELLED  CANCELLATION_REASON  AIR_SYSTEM_DELAY  \\\n",
       "0          -22.0         0          0                  NaN               NaN   \n",
       "1           -9.0         0          0                  NaN               NaN   \n",
       "2            5.0         0          0                  NaN               NaN   \n",
       "3           -9.0         0          0                  NaN               NaN   \n",
       "4          -21.0         0          0                  NaN               NaN   \n",
       "\n",
       "   SECURITY_DELAY  AIRLINE_DELAY  LATE_AIRCRAFT_DELAY  WEATHER_DELAY  \n",
       "0             NaN            NaN                  NaN            NaN  \n",
       "1             NaN            NaN                  NaN            NaN  \n",
       "2             NaN            NaN                  NaN            NaN  \n",
       "3             NaN            NaN                  NaN            NaN  \n",
       "4             NaN            NaN                  NaN            NaN  \n",
       "\n",
       "[5 rows x 31 columns]"
      ]
     },
     "execution_count": 87,
     "metadata": {},
     "output_type": "execute_result"
    }
   ],
   "source": [
    "flight.head()"
   ]
  },
  {
   "cell_type": "code",
   "execution_count": 88,
   "metadata": {},
   "outputs": [],
   "source": [
    "data = flight.sample(frac = 0.1, random_state=10)"
   ]
  },
  {
   "cell_type": "code",
   "execution_count": 89,
   "metadata": {},
   "outputs": [],
   "source": [
    "data = data[[\"MONTH\",\"DAY\",\"DAY_OF_WEEK\",\"AIRLINE\",\"FLIGHT_NUMBER\",\"DESTINATION_AIRPORT\",\n",
    "                 \"ORIGIN_AIRPORT\",\"AIR_TIME\", \"DEPARTURE_TIME\",\"DISTANCE\",\"ARRIVAL_DELAY\"]]\n",
    "data.dropna(inplace=True)\n"
   ]
  },
  {
   "cell_type": "code",
   "execution_count": 90,
   "metadata": {},
   "outputs": [
    {
     "data": {
      "text/plain": [
       "((571339, 11), (5819079, 31))"
      ]
     },
     "execution_count": 90,
     "metadata": {},
     "output_type": "execute_result"
    }
   ],
   "source": [
    "data.shape,flight.shape"
   ]
  },
  {
   "cell_type": "code",
   "execution_count": 91,
   "metadata": {},
   "outputs": [
    {
     "data": {
      "text/html": [
       "<div>\n",
       "<style scoped>\n",
       "    .dataframe tbody tr th:only-of-type {\n",
       "        vertical-align: middle;\n",
       "    }\n",
       "\n",
       "    .dataframe tbody tr th {\n",
       "        vertical-align: top;\n",
       "    }\n",
       "\n",
       "    .dataframe thead th {\n",
       "        text-align: right;\n",
       "    }\n",
       "</style>\n",
       "<table border=\"1\" class=\"dataframe\">\n",
       "  <thead>\n",
       "    <tr style=\"text-align: right;\">\n",
       "      <th></th>\n",
       "      <th>MONTH</th>\n",
       "      <th>DAY</th>\n",
       "      <th>DAY_OF_WEEK</th>\n",
       "      <th>AIRLINE</th>\n",
       "      <th>FLIGHT_NUMBER</th>\n",
       "      <th>DESTINATION_AIRPORT</th>\n",
       "      <th>ORIGIN_AIRPORT</th>\n",
       "      <th>AIR_TIME</th>\n",
       "      <th>DEPARTURE_TIME</th>\n",
       "      <th>DISTANCE</th>\n",
       "      <th>ARRIVAL_DELAY</th>\n",
       "    </tr>\n",
       "  </thead>\n",
       "  <tbody>\n",
       "    <tr>\n",
       "      <th>411984</th>\n",
       "      <td>1</td>\n",
       "      <td>28</td>\n",
       "      <td>3</td>\n",
       "      <td>WN</td>\n",
       "      <td>103</td>\n",
       "      <td>MKE</td>\n",
       "      <td>DCA</td>\n",
       "      <td>102.0</td>\n",
       "      <td>713.0</td>\n",
       "      <td>634</td>\n",
       "      <td>0</td>\n",
       "    </tr>\n",
       "    <tr>\n",
       "      <th>3591965</th>\n",
       "      <td>8</td>\n",
       "      <td>11</td>\n",
       "      <td>2</td>\n",
       "      <td>B6</td>\n",
       "      <td>153</td>\n",
       "      <td>PBI</td>\n",
       "      <td>JFK</td>\n",
       "      <td>134.0</td>\n",
       "      <td>111.0</td>\n",
       "      <td>1028</td>\n",
       "      <td>1</td>\n",
       "    </tr>\n",
       "    <tr>\n",
       "      <th>526451</th>\n",
       "      <td>2</td>\n",
       "      <td>4</td>\n",
       "      <td>3</td>\n",
       "      <td>DL</td>\n",
       "      <td>1187</td>\n",
       "      <td>DCA</td>\n",
       "      <td>MSP</td>\n",
       "      <td>111.0</td>\n",
       "      <td>1734.0</td>\n",
       "      <td>931</td>\n",
       "      <td>0</td>\n",
       "    </tr>\n",
       "    <tr>\n",
       "      <th>1336011</th>\n",
       "      <td>3</td>\n",
       "      <td>27</td>\n",
       "      <td>5</td>\n",
       "      <td>WN</td>\n",
       "      <td>171</td>\n",
       "      <td>RDU</td>\n",
       "      <td>DEN</td>\n",
       "      <td>173.0</td>\n",
       "      <td>1807.0</td>\n",
       "      <td>1436</td>\n",
       "      <td>0</td>\n",
       "    </tr>\n",
       "    <tr>\n",
       "      <th>3424502</th>\n",
       "      <td>8</td>\n",
       "      <td>1</td>\n",
       "      <td>6</td>\n",
       "      <td>WN</td>\n",
       "      <td>4330</td>\n",
       "      <td>RIC</td>\n",
       "      <td>ATL</td>\n",
       "      <td>63.0</td>\n",
       "      <td>2151.0</td>\n",
       "      <td>481</td>\n",
       "      <td>1</td>\n",
       "    </tr>\n",
       "  </tbody>\n",
       "</table>\n",
       "</div>"
      ],
      "text/plain": [
       "         MONTH  DAY  DAY_OF_WEEK AIRLINE  FLIGHT_NUMBER DESTINATION_AIRPORT  \\\n",
       "411984       1   28            3      WN            103                 MKE   \n",
       "3591965      8   11            2      B6            153                 PBI   \n",
       "526451       2    4            3      DL           1187                 DCA   \n",
       "1336011      3   27            5      WN            171                 RDU   \n",
       "3424502      8    1            6      WN           4330                 RIC   \n",
       "\n",
       "        ORIGIN_AIRPORT  AIR_TIME  DEPARTURE_TIME  DISTANCE  ARRIVAL_DELAY  \n",
       "411984             DCA     102.0           713.0       634              0  \n",
       "3591965            JFK     134.0           111.0      1028              1  \n",
       "526451             MSP     111.0          1734.0       931              0  \n",
       "1336011            DEN     173.0          1807.0      1436              0  \n",
       "3424502            ATL      63.0          2151.0       481              1  "
      ]
     },
     "execution_count": 91,
     "metadata": {},
     "output_type": "execute_result"
    }
   ],
   "source": [
    "data[\"ARRIVAL_DELAY\"] = (data[\"ARRIVAL_DELAY\"]>10)*1\n",
    "data.head()"
   ]
  },
  {
   "cell_type": "code",
   "execution_count": 92,
   "metadata": {},
   "outputs": [
    {
     "data": {
      "text/plain": [
       "array([13,  2,  3,  4,  6,  0,  7,  9, 10, 12,  8, 11,  1,  5],\n",
       "      dtype=int64)"
      ]
     },
     "execution_count": 92,
     "metadata": {},
     "output_type": "execute_result"
    }
   ],
   "source": [
    "data[\"AIRLINE\"].astype(\"category\").cat.codes.unique()"
   ]
  },
  {
   "cell_type": "code",
   "execution_count": 93,
   "metadata": {},
   "outputs": [],
   "source": [
    "cols = [\"AIRLINE\",\"FLIGHT_NUMBER\",\"DESTINATION_AIRPORT\",\"ORIGIN_AIRPORT\"]\n",
    "for item in cols:\n",
    "    data[item] = data[item].astype(\"category\").cat.codes+1\n",
    " \n",
    "train, test, y_train, y_test = train_test_split(data.drop([\"ARRIVAL_DELAY\"], axis=1), data[\"ARRIVAL_DELAY\"],\n",
    "                                                random_state=10, test_size=0.25)\n"
   ]
  },
  {
   "cell_type": "code",
   "execution_count": 94,
   "metadata": {},
   "outputs": [],
   "source": [
    "import lightgbm as lgb\n",
    "from sklearn import metrics\n",
    "from sklearn.model_selection import GridSearchCV"
   ]
  },
  {
   "cell_type": "code",
   "execution_count": 95,
   "metadata": {},
   "outputs": [
    {
     "data": {
      "text/plain": [
       "0.2806493743256854"
      ]
     },
     "execution_count": 95,
     "metadata": {},
     "output_type": "execute_result"
    }
   ],
   "source": [
    "y_train[y_train==1].count()/y_train[y_train==0].count()\n"
   ]
  },
  {
   "cell_type": "code",
   "execution_count": 128,
   "metadata": {},
   "outputs": [],
   "source": [
    "def auc2(m, train, test): \n",
    "    return (metrics.roc_auc_score(y_train,m.predict(train)),\n",
    "                            metrics.roc_auc_score(y_test,m.predict(test)))\n",
    "def auc_pr(m,train,test):\n",
    "    precision_tr, recall_tr, thresholds_tr = metrics.precision_recall_curve(y_train,m.predict(train))\n",
    "    precision_te, recall_te, thresholds_te = metrics.precision_recall_curve(y_test,m.predict(test))\n",
    "    auc_tr = metrics.auc(recall_tr, precision_tr)\n",
    "    auc_te = metrics.auc(recall_te, precision_te)\n",
    "  #  f1_tr=metrics.f1_score(y_train,m.predict(train))\n",
    "   # f1_te=metrics.f1_score(y_test,m.predict(test))\n",
    "    return(print('auc_tr=%.3f' % auc_tr),print('auc_te=%.3f' % auc_te))\n",
    "\n",
    "#params = {'boosting_type': 'gbdt',\n",
    "#          'objective': 'binary',\n",
    "#         'metric':'precision',\n",
    "#         'is_unbalance':'True',\n",
    " #        'silent' : 'True'}\n",
    "\n",
    "lg = lgb.LGBMClassifier(objective= 'binary',\n",
    "         boosting_type= 'gbdt',\n",
    "        n_jobs = 5, \n",
    "          silent = True,\n",
    "         is_unbalance=True\n",
    "    #    early_stopping_round=10,\n",
    "     #   metric='precision_score'\n",
    "                        \n",
    "         )\n",
    "\n",
    "param_grid = {\"max_depth\": [6, 15,30],\n",
    "              \"learning_rate\" : [0.05,0.1],\n",
    "              'num_iterations': [3000],\n",
    "               'num_leaves': [ 27,70, 100],\n",
    "             'random_state' : [501],\n",
    "              'feature_fraction':[0.5,0.7,1],\n",
    "              'bagging_fraction':[0.9],\n",
    "             'lambda_l1':[0.1], \n",
    "              'lambda_l2':[0.1], \n",
    "              'min_split_gain':[0.01],\n",
    "              'min_child_weight':[40]\n",
    "             }"
   ]
  },
  {
   "cell_type": "code",
   "execution_count": null,
   "metadata": {},
   "outputs": [
    {
     "name": "stdout",
     "output_type": "stream",
     "text": [
      "Fitting 3 folds for each of 54 candidates, totalling 162 fits\n"
     ]
    },
    {
     "name": "stderr",
     "output_type": "stream",
     "text": [
      "[Parallel(n_jobs=-1)]: Using backend LokyBackend with 8 concurrent workers.\n",
      "[Parallel(n_jobs=-1)]: Done  34 tasks      | elapsed: 19.5min\n"
     ]
    }
   ],
   "source": [
    "%%time\n",
    "#grid_search = GridSearchCV(lg, n_jobs=-1, param_grid=param_dist, cv = 5, scoring=\"roc_auc\", verbose=5)\n",
    "grid_search = GridSearchCV(lg, n_jobs=-1, param_grid=param_grid, cv = 3, scoring=\"precision\", verbose=1)\n",
    "grid_search.fit(train,y_train)\n",
    "#grid_search.best_estimator_\n",
    "print ('Best score: %0.3f' % grid_search.best_score_)\n",
    "    \n"
   ]
  },
  {
   "cell_type": "code",
   "execution_count": 99,
   "metadata": {},
   "outputs": [
    {
     "name": "stdout",
     "output_type": "stream",
     "text": [
      "{'feature_fraction': 0.7, 'learning_rate': 0.1, 'max_depth': 30, 'n_estimators': 200, 'num_leaves': 100, 'random_state': 501}\n"
     ]
    }
   ],
   "source": [
    "print(grid_search.best_params_)"
   ]
  },
  {
   "cell_type": "code",
   "execution_count": null,
   "metadata": {},
   "outputs": [],
   "source": []
  },
  {
   "cell_type": "code",
   "execution_count": null,
   "metadata": {},
   "outputs": [],
   "source": []
  },
  {
   "cell_type": "code",
   "execution_count": 101,
   "metadata": {},
   "outputs": [],
   "source": [
    "d_train = lgb.Dataset(train, label=y_train,free_raw_data=False)\n",
    "params = {\"max_depth\": 15, \"learning_rate\" : 0.1, \"num_leaves\": 100, 'objective':'binary','num_iterations':3000,\n",
    "         'random_state':501,'feature_fraction': 0.7,'early_stopping_round':10,'metric':'precision_score'}\n",
    "\n",
    "# Without Categorical Features\n",
    "#model2 = lgb.train(params, d_train)\n",
    "#auc2(model2, train, test)\n",
    "\n",
    "cate_features_name = [\"MONTH\",\"DAY\",\"DAY_OF_WEEK\",\"AIRLINE\",\"DESTINATION_AIRPORT\",\"ORIGIN_AIRPORT\"]\n",
    "model2 = lgb.train(params, d_train, categorical_feature = cate_features_name)"
   ]
  },
  {
   "cell_type": "code",
   "execution_count": 102,
   "metadata": {},
   "outputs": [
    {
     "name": "stdout",
     "output_type": "stream",
     "text": [
      "0.2806493743256854\n",
      "              precision    recall  f1-score   support\n",
      "\n",
      "           0       0.90      0.88      0.89    334599\n",
      "           1       0.60      0.63      0.62     93905\n",
      "\n",
      "    accuracy                           0.83    428504\n",
      "   macro avg       0.75      0.76      0.75    428504\n",
      "weighted avg       0.83      0.83      0.83    428504\n",
      "\n"
     ]
    }
   ],
   "source": [
    "### Predict train\n",
    "#predictions = grid_search.predict(test)\n",
    "predictions_lgbm_prob=model2.predict(train)\n",
    "                              #       ,pred_contrib=False)\n",
    "train['prob']= predictions_lgbm_prob\n",
    "\n",
    "\n",
    "predictions_lgbm_labeled = np.where(predictions_lgbm_prob > 0.3, 1, 0)\n",
    "\n",
    "\n",
    "\n",
    "print(y_train[y_train==1].count()/y_train[y_train==0].count())\n",
    "\n",
    "\n",
    "\n",
    "print(metrics.classification_report(y_train, predictions_lgbm_labeled))\n",
    "\n",
    "#print(metrics.confusion_matrix(y_train, predictions_lgbm_labeled,labels=[y_train.unique()[0],y_train.unique()[1]]))\n",
    "\n",
    "##########################"
   ]
  },
  {
   "cell_type": "code",
   "execution_count": 103,
   "metadata": {},
   "outputs": [
    {
     "name": "stdout",
     "output_type": "stream",
     "text": [
      "0.2794707800351141\n",
      "              precision    recall  f1-score   support\n",
      "\n",
      "           0       0.86      0.85      0.86    111636\n",
      "           1       0.49      0.50      0.50     31199\n",
      "\n",
      "    accuracy                           0.78    142835\n",
      "   macro avg       0.67      0.68      0.68    142835\n",
      "weighted avg       0.78      0.78      0.78    142835\n",
      "\n",
      "[[95190 16446]\n",
      " [15448 15751]]\n"
     ]
    }
   ],
   "source": [
    "### Predict test\n",
    "#predictions = grid_search.predict(test)\n",
    "predictions_lgbm_prob=model2.predict(test)\n",
    "\n",
    "predictions_lgbm_labeled = np.where(predictions_lgbm_prob > 0.3, 1, 0)\n",
    "\n",
    "\n",
    "print(y_test[y_test==1].count()/y_test[y_test==0].count())\n",
    "\n",
    "\n",
    "print(metrics.classification_report(y_test, predictions_lgbm_labeled))\n",
    "\n",
    "print(metrics.confusion_matrix(y_test, predictions_lgbm_labeled))\n",
    "\n",
    "##########################\n",
    "\n",
    "\n",
    "\n"
   ]
  },
  {
   "cell_type": "code",
   "execution_count": 66,
   "metadata": {},
   "outputs": [],
   "source": []
  },
  {
   "cell_type": "code",
   "execution_count": 67,
   "metadata": {},
   "outputs": [
    {
     "data": {
      "text/plain": [
       "346452"
      ]
     },
     "execution_count": 67,
     "metadata": {},
     "output_type": "execute_result"
    }
   ],
   "source": []
  },
  {
   "cell_type": "code",
   "execution_count": 33,
   "metadata": {},
   "outputs": [
    {
     "name": "stdout",
     "output_type": "stream",
     "text": [
      "auc_tr=0.455\n",
      "auc_te=0.445\n"
     ]
    },
    {
     "data": {
      "text/plain": [
       "(None, None)"
      ]
     },
     "execution_count": 33,
     "metadata": {},
     "output_type": "execute_result"
    }
   ],
   "source": [
    "auc_pr(model2, train, test)\n"
   ]
  },
  {
   "cell_type": "code",
   "execution_count": 65,
   "metadata": {},
   "outputs": [],
   "source": []
  },
  {
   "cell_type": "code",
   "execution_count": 42,
   "metadata": {},
   "outputs": [],
   "source": []
  },
  {
   "cell_type": "code",
   "execution_count": null,
   "metadata": {},
   "outputs": [],
   "source": []
  }
 ],
 "metadata": {
  "kernelspec": {
   "display_name": "Python 3",
   "language": "python",
   "name": "python3"
  },
  "language_info": {
   "codemirror_mode": {
    "name": "ipython",
    "version": 3
   },
   "file_extension": ".py",
   "mimetype": "text/x-python",
   "name": "python",
   "nbconvert_exporter": "python",
   "pygments_lexer": "ipython3",
   "version": "3.7.3"
  }
 },
 "nbformat": 4,
 "nbformat_minor": 2
}
