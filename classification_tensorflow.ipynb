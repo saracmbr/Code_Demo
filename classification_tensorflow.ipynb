{
  "nbformat": 4,
  "nbformat_minor": 0,
  "metadata": {
    "colab": {
      "provenance": [],
      "authorship_tag": "ABX9TyN+zph+djBomFYsrJ72T8bD",
      "include_colab_link": true
    },
    "kernelspec": {
      "name": "python3",
      "display_name": "Python 3"
    },
    "language_info": {
      "name": "python"
    }
  },
  "cells": [
    {
      "cell_type": "markdown",
      "metadata": {
        "id": "view-in-github",
        "colab_type": "text"
      },
      "source": [
        "<a href=\"https://colab.research.google.com/github/saracmbr/Code_Demo/blob/master/classification_tensorflow.ipynb\" target=\"_parent\"><img src=\"https://colab.research.google.com/assets/colab-badge.svg\" alt=\"Open In Colab\"/></a>"
      ]
    },
    {
      "cell_type": "code",
      "execution_count": 70,
      "metadata": {
        "id": "x8QtrNs266JC"
      },
      "outputs": [],
      "source": [
        "import tensorflow as tf\n",
        "from tensorflow.keras.datasets import fashion_mnist\n",
        "\n",
        "\n",
        "(train_data, train_labels), (test_data, test_labels) = fashion_mnist.load_data()"
      ]
    },
    {
      "cell_type": "code",
      "source": [
        "train_data[0].shape, train_labels[0].shape"
      ],
      "metadata": {
        "colab": {
          "base_uri": "https://localhost:8080/"
        },
        "id": "IJQAtAwQ7o7z",
        "outputId": "99f7e6e1-d30c-4b24-df1c-d064e1e297fa"
      },
      "execution_count": 71,
      "outputs": [
        {
          "output_type": "execute_result",
          "data": {
            "text/plain": [
              "((28, 28), ())"
            ]
          },
          "metadata": {},
          "execution_count": 71
        }
      ]
    },
    {
      "cell_type": "code",
      "source": [
        "# Check the min and max values of the training data\n",
        "train_data.min(), train_data.max()"
      ],
      "metadata": {
        "colab": {
          "base_uri": "https://localhost:8080/"
        },
        "id": "wnt-HOtx9hbE",
        "outputId": "82304edd-3602-4e3c-ce04-7b1e7e6b34f1"
      },
      "execution_count": 72,
      "outputs": [
        {
          "output_type": "execute_result",
          "data": {
            "text/plain": [
              "(0, 255)"
            ]
          },
          "metadata": {},
          "execution_count": 72
        }
      ]
    },
    {
      "cell_type": "code",
      "source": [
        "train_data=train_data/(train_data.max())\n",
        "\n",
        "test_data=test_data/255."
      ],
      "metadata": {
        "id": "-Sxa18jt99TB"
      },
      "execution_count": 73,
      "outputs": []
    },
    {
      "cell_type": "code",
      "source": [
        "class_names = ['T-shirt/top', 'Trouser', 'Pullover', 'Dress', 'Coat', \n",
        "               'Sandal', 'Shirt', 'Sneaker', 'Bag', 'Ankle boot']"
      ],
      "metadata": {
        "id": "6pqg6KeU8H-b"
      },
      "execution_count": 61,
      "outputs": []
    },
    {
      "cell_type": "code",
      "source": [
        "import matplotlib.pyplot as plt\n",
        "plt.imshow(train_data[10], cmap=plt.cm.binary) # change the colours to black & white\n",
        "plt.title(class_names[train_labels[10]]);"
      ],
      "metadata": {
        "colab": {
          "base_uri": "https://localhost:8080/",
          "height": 281
        },
        "id": "v_4K-CVB8UlY",
        "outputId": "5f0ef8a1-2804-4b5e-89c3-0e4079bde7c8"
      },
      "execution_count": 5,
      "outputs": [
        {
          "output_type": "display_data",
          "data": {
            "text/plain": [
              "<Figure size 432x288 with 1 Axes>"
            ],
            "image/png": "[encoded data removed]"
          },
          "metadata": {
            "needs_background": "light"
          }
        }
      ]
    },
    {
      "cell_type": "code",
      "source": [
        "# Set random seed\n",
        "tf.random.set_seed(42)\n",
        "\n",
        "# Create the model\n",
        "model = tf.keras.Sequential([\n",
        "  tf.keras.layers.Flatten(input_shape=(28, 28)), \n",
        "  tf.keras.layers.Dense(20, activation=\"relu\"),\n",
        "  ###tf.keras.layers.Dense(4, activation=\"relu\"), was overfitting \n",
        "  tf.keras.layers.Dense(10, activation=\"softmax\")\n",
        "]) \n",
        "\n",
        "# Compile the model\n",
        "model.compile(loss=tf.keras.losses.SparseCategoricalCrossentropy(), \n",
        "                 optimizer=tf.keras.optimizers.Adam(),\n",
        "                 metrics=[\"accuracy\"])\n",
        "\n",
        "# Fit the model\n",
        "history = model.fit(train_data,train_labels,\n",
        "                                epochs=10,\n",
        "                                validation_data=(test_data, test_labels)) "
      ],
      "metadata": {
        "colab": {
          "base_uri": "https://localhost:8080/"
        },
        "id": "4mI7BMay9TA6",
        "outputId": "f4033fad-1a4d-4bbf-9c2a-a4e9a9939cff"
      },
      "execution_count": 15,
      "outputs": [
        {
          "output_type": "stream",
          "name": "stdout",
          "text": [
            "Epoch 1/10\n",
            "1875/1875 [==============================] - 58s 31ms/step - loss: 0.5851 - accuracy: 0.7956 - val_loss: 70.3235 - val_accuracy: 0.8120\n",
            "Epoch 2/10\n",
            "1875/1875 [==============================] - 4s 2ms/step - loss: 0.4341 - accuracy: 0.8480 - val_loss: 118.5198 - val_accuracy: 0.7828\n",
            "Epoch 3/10\n",
            "1875/1875 [==============================] - 4s 2ms/step - loss: 0.4029 - accuracy: 0.8576 - val_loss: 70.0727 - val_accuracy: 0.8194\n",
            "Epoch 4/10\n",
            "1875/1875 [==============================] - 5s 3ms/step - loss: 0.3833 - accuracy: 0.8648 - val_loss: 85.2142 - val_accuracy: 0.7988\n",
            "Epoch 5/10\n",
            "1875/1875 [==============================] - 4s 2ms/step - loss: 0.3714 - accuracy: 0.8691 - val_loss: 101.2641 - val_accuracy: 0.7904\n",
            "Epoch 6/10\n",
            "1875/1875 [==============================] - 4s 2ms/step - loss: 0.3604 - accuracy: 0.8722 - val_loss: 88.1650 - val_accuracy: 0.8019\n",
            "Epoch 7/10\n",
            "1875/1875 [==============================] - 5s 2ms/step - loss: 0.3531 - accuracy: 0.8753 - val_loss: 74.6927 - val_accuracy: 0.8280\n",
            "Epoch 8/10\n",
            "1875/1875 [==============================] - 4s 2ms/step - loss: 0.3444 - accuracy: 0.8781 - val_loss: 75.2600 - val_accuracy: 0.8201\n",
            "Epoch 9/10\n",
            "1875/1875 [==============================] - 4s 2ms/step - loss: 0.3392 - accuracy: 0.8800 - val_loss: 79.3904 - val_accuracy: 0.8213\n",
            "Epoch 10/10\n",
            "1875/1875 [==============================] - 5s 3ms/step - loss: 0.3347 - accuracy: 0.8794 - val_loss: 98.0670 - val_accuracy: 0.8038\n"
          ]
        }
      ]
    },
    {
      "cell_type": "code",
      "source": [
        "lr_scheduler = tf.keras.callbacks.LearningRateScheduler(lambda epoch: 1e-3 * 10**(epoch/20))\n",
        "\n",
        "# Fit the model\n",
        "find_lr_history = model.fit(train_data,\n",
        "                               train_labels,\n",
        "                               epochs=40, # model already doing pretty good with current LR, probably don't need 100 epochs\n",
        "                               validation_data=(test_data, test_labels),\n",
        "                               callbacks=[lr_scheduler])"
      ],
      "metadata": {
        "colab": {
          "base_uri": "https://localhost:8080/"
        },
        "id": "PlWvB_Ecgctr",
        "outputId": "135bff0e-9167-40c1-d676-d252830b4127"
      },
      "execution_count": 79,
      "outputs": [
        {
          "output_type": "stream",
          "name": "stdout",
          "text": [
            "Epoch 1/40\n",
            "1875/1875 [==============================] - 4s 2ms/step - loss: 0.3118 - accuracy: 0.8865 - val_loss: 0.4058 - val_accuracy: 0.8603 - lr: 0.0010\n",
            "Epoch 2/40\n",
            "1875/1875 [==============================] - 5s 3ms/step - loss: 0.3119 - accuracy: 0.8867 - val_loss: 0.4711 - val_accuracy: 0.8508 - lr: 0.0011\n",
            "Epoch 3/40\n",
            "1875/1875 [==============================] - 4s 2ms/step - loss: 0.3124 - accuracy: 0.8866 - val_loss: 0.3938 - val_accuracy: 0.8587 - lr: 0.0013\n",
            "Epoch 4/40\n",
            "1875/1875 [==============================] - 4s 2ms/step - loss: 0.3147 - accuracy: 0.8849 - val_loss: 0.4141 - val_accuracy: 0.8535 - lr: 0.0014\n",
            "Epoch 5/40\n",
            "1875/1875 [==============================] - 6s 3ms/step - loss: 0.3148 - accuracy: 0.8855 - val_loss: 0.4177 - val_accuracy: 0.8517 - lr: 0.0016\n",
            "Epoch 6/40\n",
            "1875/1875 [==============================] - 4s 2ms/step - loss: 0.3158 - accuracy: 0.8856 - val_loss: 0.4191 - val_accuracy: 0.8478 - lr: 0.0018\n",
            "Epoch 7/40\n",
            "1875/1875 [==============================] - 5s 3ms/step - loss: 0.3197 - accuracy: 0.8838 - val_loss: 0.4056 - val_accuracy: 0.8575 - lr: 0.0020\n",
            "Epoch 8/40\n",
            "1875/1875 [==============================] - 5s 2ms/step - loss: 0.3211 - accuracy: 0.8826 - val_loss: 0.3853 - val_accuracy: 0.8678 - lr: 0.0022\n",
            "Epoch 9/40\n",
            "1875/1875 [==============================] - 4s 2ms/step - loss: 0.3237 - accuracy: 0.8820 - val_loss: 0.4015 - val_accuracy: 0.8618 - lr: 0.0025\n",
            "Epoch 10/40\n",
            "1875/1875 [==============================] - 5s 3ms/step - loss: 0.3284 - accuracy: 0.8816 - val_loss: 0.4441 - val_accuracy: 0.8486 - lr: 0.0028\n",
            "Epoch 11/40\n",
            "1875/1875 [==============================] - 4s 2ms/step - loss: 0.3301 - accuracy: 0.8796 - val_loss: 0.4337 - val_accuracy: 0.8468 - lr: 0.0032\n",
            "Epoch 12/40\n",
            "1875/1875 [==============================] - 4s 2ms/step - loss: 0.3338 - accuracy: 0.8788 - val_loss: 0.4232 - val_accuracy: 0.8576 - lr: 0.0035\n",
            "Epoch 13/40\n",
            "1875/1875 [==============================] - 5s 3ms/step - loss: 0.3351 - accuracy: 0.8782 - val_loss: 0.4367 - val_accuracy: 0.8515 - lr: 0.0040\n",
            "Epoch 14/40\n",
            "1875/1875 [==============================] - 4s 2ms/step - loss: 0.3353 - accuracy: 0.8797 - val_loss: 0.4074 - val_accuracy: 0.8593 - lr: 0.0045\n",
            "Epoch 15/40\n",
            "1875/1875 [==============================] - 5s 3ms/step - loss: 0.3417 - accuracy: 0.8758 - val_loss: 0.4530 - val_accuracy: 0.8307 - lr: 0.0050\n",
            "Epoch 16/40\n",
            "1875/1875 [==============================] - 4s 2ms/step - loss: 0.3501 - accuracy: 0.8731 - val_loss: 0.4412 - val_accuracy: 0.8498 - lr: 0.0056\n",
            "Epoch 17/40\n",
            "1875/1875 [==============================] - 4s 2ms/step - loss: 0.3473 - accuracy: 0.8739 - val_loss: 0.4462 - val_accuracy: 0.8541 - lr: 0.0063\n",
            "Epoch 18/40\n",
            "1875/1875 [==============================] - 5s 3ms/step - loss: 0.3585 - accuracy: 0.8696 - val_loss: 0.4278 - val_accuracy: 0.8554 - lr: 0.0071\n",
            "Epoch 19/40\n",
            "1875/1875 [==============================] - 4s 2ms/step - loss: 0.3676 - accuracy: 0.8674 - val_loss: 0.4747 - val_accuracy: 0.8415 - lr: 0.0079\n",
            "Epoch 20/40\n",
            "1875/1875 [==============================] - 4s 2ms/step - loss: 0.3698 - accuracy: 0.8684 - val_loss: 0.4465 - val_accuracy: 0.8480 - lr: 0.0089\n",
            "Epoch 21/40\n",
            "1875/1875 [==============================] - 5s 3ms/step - loss: 0.3820 - accuracy: 0.8632 - val_loss: 0.4530 - val_accuracy: 0.8509 - lr: 0.0100\n",
            "Epoch 22/40\n",
            "1875/1875 [==============================] - 5s 2ms/step - loss: 0.4018 - accuracy: 0.8582 - val_loss: 0.5002 - val_accuracy: 0.8355 - lr: 0.0112\n",
            "Epoch 23/40\n",
            "1875/1875 [==============================] - 6s 3ms/step - loss: 0.4109 - accuracy: 0.8586 - val_loss: 0.5814 - val_accuracy: 0.8119 - lr: 0.0126\n",
            "Epoch 24/40\n",
            "1875/1875 [==============================] - 5s 2ms/step - loss: 0.4267 - accuracy: 0.8536 - val_loss: 0.4768 - val_accuracy: 0.8432 - lr: 0.0141\n",
            "Epoch 25/40\n",
            "1875/1875 [==============================] - 5s 3ms/step - loss: 0.4400 - accuracy: 0.8493 - val_loss: 0.4971 - val_accuracy: 0.8440 - lr: 0.0158\n",
            "Epoch 26/40\n",
            "1875/1875 [==============================] - 6s 3ms/step - loss: 0.4598 - accuracy: 0.8447 - val_loss: 0.5119 - val_accuracy: 0.8453 - lr: 0.0178\n",
            "Epoch 27/40\n",
            "1875/1875 [==============================] - 5s 2ms/step - loss: 0.4942 - accuracy: 0.8349 - val_loss: 0.5572 - val_accuracy: 0.8172 - lr: 0.0200\n",
            "Epoch 28/40\n",
            "1875/1875 [==============================] - 5s 3ms/step - loss: 0.4989 - accuracy: 0.8345 - val_loss: 0.5981 - val_accuracy: 0.8203 - lr: 0.0224\n",
            "Epoch 29/40\n",
            "1875/1875 [==============================] - 4s 2ms/step - loss: 0.5435 - accuracy: 0.8252 - val_loss: 0.6503 - val_accuracy: 0.7670 - lr: 0.0251\n",
            "Epoch 30/40\n",
            "1875/1875 [==============================] - 4s 2ms/step - loss: 0.5596 - accuracy: 0.8204 - val_loss: 0.6335 - val_accuracy: 0.8114 - lr: 0.0282\n",
            "Epoch 31/40\n",
            "1875/1875 [==============================] - 5s 3ms/step - loss: 0.6119 - accuracy: 0.8006 - val_loss: 0.6760 - val_accuracy: 0.7958 - lr: 0.0316\n",
            "Epoch 32/40\n",
            "1875/1875 [==============================] - 4s 2ms/step - loss: 0.7153 - accuracy: 0.7704 - val_loss: 0.8321 - val_accuracy: 0.7140 - lr: 0.0355\n",
            "Epoch 33/40\n",
            "1875/1875 [==============================] - 5s 3ms/step - loss: 0.7916 - accuracy: 0.7280 - val_loss: 0.8126 - val_accuracy: 0.6829 - lr: 0.0398\n",
            "Epoch 34/40\n",
            "1875/1875 [==============================] - 7s 4ms/step - loss: 0.8511 - accuracy: 0.7036 - val_loss: 0.9684 - val_accuracy: 0.6611 - lr: 0.0447\n",
            "Epoch 35/40\n",
            "1875/1875 [==============================] - 5s 3ms/step - loss: 0.9239 - accuracy: 0.6771 - val_loss: 0.8973 - val_accuracy: 0.6955 - lr: 0.0501\n",
            "Epoch 36/40\n",
            "1875/1875 [==============================] - 5s 3ms/step - loss: 1.0296 - accuracy: 0.6541 - val_loss: 1.3292 - val_accuracy: 0.5086 - lr: 0.0562\n",
            "Epoch 37/40\n",
            "1875/1875 [==============================] - 5s 3ms/step - loss: 1.3916 - accuracy: 0.5130 - val_loss: 1.4875 - val_accuracy: 0.4996 - lr: 0.0631\n",
            "Epoch 38/40\n",
            "1875/1875 [==============================] - 6s 3ms/step - loss: 1.5086 - accuracy: 0.4532 - val_loss: 1.5368 - val_accuracy: 0.4563 - lr: 0.0708\n",
            "Epoch 39/40\n",
            "1875/1875 [==============================] - 4s 2ms/step - loss: 1.6235 - accuracy: 0.4311 - val_loss: 1.4805 - val_accuracy: 0.4440 - lr: 0.0794\n",
            "Epoch 40/40\n",
            "1875/1875 [==============================] - 5s 3ms/step - loss: 1.7075 - accuracy: 0.3913 - val_loss: 1.7110 - val_accuracy: 0.3556 - lr: 0.0891\n"
          ]
        }
      ]
    },
    {
      "cell_type": "code",
      "source": [
        "model = tf.keras.Sequential([\n",
        "  tf.keras.layers.Flatten(input_shape=(28, 28)), \n",
        "  tf.keras.layers.Dense(20, activation=\"relu\"),\n",
        "  tf.keras.layers.Dense(10, activation=\"softmax\")\n",
        "]) \n",
        "\n",
        "# Compile the model\n",
        "model.compile(loss=tf.keras.losses.SparseCategoricalCrossentropy(), # different loss function for multiclass classifcation\n",
        "                 optimizer=tf.keras.optimizers.Adam(learning_rate=0.0022),\n",
        "                 metrics=[\"accuracy\"])\n",
        "\n",
        "# Fit the model\n",
        "history = model.fit(train_data,train_labels,\n",
        "                                epochs=15,\n",
        "                                validation_data=(test_data, test_labels)) # see how the model performs on the test set during training"
      ],
      "metadata": {
        "colab": {
          "base_uri": "https://localhost:8080/"
        },
        "id": "0HjCWWYJlfVu",
        "outputId": "286f1161-235e-43c0-cafe-4dc4a346c1e1"
      },
      "execution_count": 80,
      "outputs": [
        {
          "output_type": "stream",
          "name": "stdout",
          "text": [
            "Epoch 1/15\n",
            "1875/1875 [==============================] - 5s 2ms/step - loss: 0.5337 - accuracy: 0.8145 - val_loss: 0.4603 - val_accuracy: 0.8313\n",
            "Epoch 2/15\n",
            "1875/1875 [==============================] - 5s 2ms/step - loss: 0.4146 - accuracy: 0.8499 - val_loss: 0.4708 - val_accuracy: 0.8357\n",
            "Epoch 3/15\n",
            "1875/1875 [==============================] - 6s 3ms/step - loss: 0.3825 - accuracy: 0.8625 - val_loss: 0.4359 - val_accuracy: 0.8354\n",
            "Epoch 4/15\n",
            "1875/1875 [==============================] - 5s 2ms/step - loss: 0.3645 - accuracy: 0.8684 - val_loss: 0.4256 - val_accuracy: 0.8472\n",
            "Epoch 5/15\n",
            "1875/1875 [==============================] - 5s 3ms/step - loss: 0.3536 - accuracy: 0.8712 - val_loss: 0.4351 - val_accuracy: 0.8463\n",
            "Epoch 6/15\n",
            "1875/1875 [==============================] - 5s 3ms/step - loss: 0.3418 - accuracy: 0.8749 - val_loss: 0.4235 - val_accuracy: 0.8481\n",
            "Epoch 7/15\n",
            "1875/1875 [==============================] - 5s 2ms/step - loss: 0.3380 - accuracy: 0.8767 - val_loss: 0.4060 - val_accuracy: 0.8572\n",
            "Epoch 8/15\n",
            "1875/1875 [==============================] - 6s 3ms/step - loss: 0.3291 - accuracy: 0.8796 - val_loss: 0.3852 - val_accuracy: 0.8667\n",
            "Epoch 9/15\n",
            "1875/1875 [==============================] - 4s 2ms/step - loss: 0.3241 - accuracy: 0.8807 - val_loss: 0.3940 - val_accuracy: 0.8626\n",
            "Epoch 10/15\n",
            "1875/1875 [==============================] - 5s 3ms/step - loss: 0.3211 - accuracy: 0.8810 - val_loss: 0.4221 - val_accuracy: 0.8552\n",
            "Epoch 11/15\n",
            "1875/1875 [==============================] - 5s 3ms/step - loss: 0.3167 - accuracy: 0.8827 - val_loss: 0.3978 - val_accuracy: 0.8637\n",
            "Epoch 12/15\n",
            "1875/1875 [==============================] - 4s 2ms/step - loss: 0.3115 - accuracy: 0.8850 - val_loss: 0.3864 - val_accuracy: 0.8657\n",
            "Epoch 13/15\n",
            "1875/1875 [==============================] - 5s 3ms/step - loss: 0.3082 - accuracy: 0.8856 - val_loss: 0.3895 - val_accuracy: 0.8695\n",
            "Epoch 14/15\n",
            "1875/1875 [==============================] - 4s 2ms/step - loss: 0.3057 - accuracy: 0.8877 - val_loss: 0.3887 - val_accuracy: 0.8655\n",
            "Epoch 15/15\n",
            "1875/1875 [==============================] - 5s 2ms/step - loss: 0.3026 - accuracy: 0.8873 - val_loss: 0.3926 - val_accuracy: 0.8623\n"
          ]
        }
      ]
    },
    {
      "cell_type": "code",
      "source": [
        "y_probs = model.predict(test_data[100])\n",
        "###.argmax(), class_names[model.predict(test_data[30]).argmax()]"
      ],
      "metadata": {
        "colab": {
          "base_uri": "https://localhost:8080/"
        },
        "id": "eaIbNwQ_riA-",
        "outputId": "85b5fb92-57d6-4ac6-fc70-7b98dc8f393e"
      },
      "execution_count": 91,
      "outputs": [
        {
          "output_type": "stream",
          "name": "stdout",
          "text": [
            "1/1 [==============================] - 0s 37ms/step\n"
          ]
        }
      ]
    },
    {
      "cell_type": "code",
      "source": [
        "y_probs.argmax(), class_names[y_probs.argmax()]"
      ],
      "metadata": {
        "colab": {
          "base_uri": "https://localhost:8080/"
        },
        "id": "4KhLBoAdz6kr",
        "outputId": "2680d722-cb29-4712-b9d6-e256f8669be5"
      },
      "execution_count": 92,
      "outputs": [
        {
          "output_type": "execute_result",
          "data": {
            "text/plain": [
              "(3, 'Dress')"
            ]
          },
          "metadata": {},
          "execution_count": 92
        }
      ]
    },
    {
      "cell_type": "code",
      "source": [
        "plt.imshow(test_data[150], cmap=plt.cm.binary) # change the colours to black & white\n",
        "plt.title(class_names[test_labels[150]]);"
      ],
      "metadata": {
        "colab": {
          "base_uri": "https://localhost:8080/",
          "height": 281
        },
        "id": "CGeC8Uge0YrE",
        "outputId": "b8527b60-3a48-4b22-adb6-b288c7bf2b6f"
      },
      "execution_count": 94,
      "outputs": [
        {
          "output_type": "display_data",
          "data": {
            "text/plain": [
              "<Figure size 432x288 with 1 Axes>"
            ],
            "image/png": "[encoded data removed]"
          },
          "metadata": {
            "needs_background": "light"
          }
        }
      ]
    }
  ]
}