{
  "nbformat": 4,
  "nbformat_minor": 0,
  "metadata": {
    "colab": {
      "provenance": [],
      "authorship_tag": "ABX9TyNznIi2rM/MrazbEOZ33JF2",
      "include_colab_link": true
    },
    "kernelspec": {
      "name": "python3",
      "display_name": "Python 3"
    },
    "language_info": {
      "name": "python"
    }
  },
  "cells": [
    {
      "cell_type": "markdown",
      "metadata": {
        "id": "view-in-github",
        "colab_type": "text"
      },
      "source": [
        "<a href=\"https://colab.research.google.com/github/saracmbr/Code_Demo/blob/master/Simple_regression_tensorflow.ipynb\" target=\"_parent\"><img src=\"https://colab.research.google.com/assets/colab-badge.svg\" alt=\"Open In Colab\"/></a>"
      ]
    },
    {
      "cell_type": "code",
      "source": [
        "G = tf.constant(np.random.randint(0, 100, 50), shape=(1, 1, 1, 1, 50))\n",
        "tf.squeeze(G)"
      ],
      "metadata": {
        "colab": {
          "base_uri": "https://localhost:8080/"
        },
        "id": "S6XQZrUwt_9P",
        "outputId": "b1ef637f-2c27-40d9-9e8d-a04f98e30a04"
      },
      "execution_count": null,
      "outputs": [
        {
          "output_type": "execute_result",
          "data": {
            "text/plain": [
              "<tf.Tensor: shape=(50,), dtype=int64, numpy=\n",
              "array([21, 63, 58, 96, 64, 57, 44, 91, 11, 65, 62, 38, 17, 60,  4, 93, 51,\n",
              "        7, 52, 71, 42, 82, 18, 48, 82,  0, 39, 35, 69, 64, 21, 27, 43, 86,\n",
              "       80, 67, 82, 36, 40, 99, 17, 76, 42, 23, 85, 91, 61, 82, 96, 28])>"
            ]
          },
          "metadata": {},
          "execution_count": 26
        }
      ]
    },
    {
      "cell_type": "code",
      "source": [
        "# Create features (using tensors)\n",
        "tf.random.set_seed(42)\n",
        "X = tf.random.uniform(shape = (100,1),minval=0,maxval=100,dtype=tf.int32)\n",
        "\n",
        "\n",
        "# Create labels (using tensors)\n",
        "Y = X +10\n",
        "\n",
        "\n",
        "\n"
      ],
      "metadata": {
        "colab": {
          "base_uri": "https://localhost:8080/"
        },
        "id": "M5EcS6u00gVY",
        "outputId": "10df5261-9625-49e1-9ffe-b5caf7ef97a8"
      },
      "execution_count": null,
      "outputs": [
        {
          "output_type": "execute_result",
          "data": {
            "text/plain": [
              "1"
            ]
          },
          "metadata": {},
          "execution_count": 74
        }
      ]
    },
    {
      "cell_type": "code",
      "source": [
        "tf.random.set_seed(42)\n",
        "\n",
        "model = tf.keras.Sequential([\n",
        "    \n",
        "    tf.keras.layers.Dense(50,activation=None),\n",
        "    tf.keras.layers.Dense(1)\n",
        "    ])\n",
        "\n",
        "model.compile(loss=tf.keras.losses.mae,\n",
        "              optimizer=tf.keras.optimizers.Adam(learning_rate=0.01),\n",
        "              metrics=[\"mae\"])\n",
        "\n",
        "model.fit(X,Y,epochs=100)\n",
        "\n"
      ],
      "metadata": {
        "colab": {
          "base_uri": "https://localhost:8080/"
        },
        "id": "CgJOY1tR1Exc",
        "outputId": "60531c1d-2e2a-412e-a8a1-e4391693e20e"
      },
      "execution_count": null,
      "outputs": [
        {
          "output_type": "stream",
          "name": "stdout",
          "text": [
            "Epoch 1/100\n",
            "4/4 [==============================] - 1s 4ms/step - loss: 77.4157 - mae: 77.4157\n",
            "Epoch 2/100\n",
            "4/4 [==============================] - 0s 3ms/step - loss: 42.5517 - mae: 42.5517\n",
            "Epoch 3/100\n",
            "4/4 [==============================] - 0s 3ms/step - loss: 11.6015 - mae: 11.6015\n",
            "Epoch 4/100\n",
            "4/4 [==============================] - 0s 3ms/step - loss: 16.7919 - mae: 16.7919\n",
            "Epoch 5/100\n",
            "4/4 [==============================] - 0s 3ms/step - loss: 17.7038 - mae: 17.7038\n",
            "Epoch 6/100\n",
            "4/4 [==============================] - 0s 4ms/step - loss: 7.0541 - mae: 7.0541\n",
            "Epoch 7/100\n",
            "4/4 [==============================] - 0s 6ms/step - loss: 6.8764 - mae: 6.8764\n",
            "Epoch 8/100\n",
            "4/4 [==============================] - 0s 3ms/step - loss: 4.4082 - mae: 4.4082\n",
            "Epoch 9/100\n",
            "4/4 [==============================] - 0s 3ms/step - loss: 5.1382 - mae: 5.1382\n",
            "Epoch 10/100\n",
            "4/4 [==============================] - 0s 4ms/step - loss: 3.7168 - mae: 3.7168\n",
            "Epoch 11/100\n",
            "4/4 [==============================] - 0s 3ms/step - loss: 3.8703 - mae: 3.8703\n",
            "Epoch 12/100\n",
            "4/4 [==============================] - 0s 3ms/step - loss: 3.7847 - mae: 3.7847\n",
            "Epoch 13/100\n",
            "4/4 [==============================] - 0s 3ms/step - loss: 3.6537 - mae: 3.6537\n",
            "Epoch 14/100\n",
            "4/4 [==============================] - 0s 3ms/step - loss: 3.5007 - mae: 3.5007\n",
            "Epoch 15/100\n",
            "4/4 [==============================] - 0s 3ms/step - loss: 3.4200 - mae: 3.4200\n",
            "Epoch 16/100\n",
            "4/4 [==============================] - 0s 5ms/step - loss: 3.3440 - mae: 3.3440\n",
            "Epoch 17/100\n",
            "4/4 [==============================] - 0s 3ms/step - loss: 3.2883 - mae: 3.2883\n",
            "Epoch 18/100\n",
            "4/4 [==============================] - 0s 3ms/step - loss: 3.7886 - mae: 3.7886\n",
            "Epoch 19/100\n",
            "4/4 [==============================] - 0s 3ms/step - loss: 3.4478 - mae: 3.4478\n",
            "Epoch 20/100\n",
            "4/4 [==============================] - 0s 3ms/step - loss: 3.0776 - mae: 3.0776\n",
            "Epoch 21/100\n",
            "4/4 [==============================] - 0s 4ms/step - loss: 3.0745 - mae: 3.0745\n",
            "Epoch 22/100\n",
            "4/4 [==============================] - 0s 3ms/step - loss: 2.9682 - mae: 2.9682\n",
            "Epoch 23/100\n",
            "4/4 [==============================] - 0s 4ms/step - loss: 3.3818 - mae: 3.3818\n",
            "Epoch 24/100\n",
            "4/4 [==============================] - 0s 3ms/step - loss: 2.6284 - mae: 2.6284\n",
            "Epoch 25/100\n",
            "4/4 [==============================] - 0s 4ms/step - loss: 2.8798 - mae: 2.8798\n",
            "Epoch 26/100\n",
            "4/4 [==============================] - 0s 3ms/step - loss: 2.4474 - mae: 2.4474\n",
            "Epoch 27/100\n",
            "4/4 [==============================] - 0s 4ms/step - loss: 2.2555 - mae: 2.2555\n",
            "Epoch 28/100\n",
            "4/4 [==============================] - 0s 3ms/step - loss: 2.3246 - mae: 2.3246\n",
            "Epoch 29/100\n",
            "4/4 [==============================] - 0s 3ms/step - loss: 2.0102 - mae: 2.0102\n",
            "Epoch 30/100\n",
            "4/4 [==============================] - 0s 3ms/step - loss: 2.3529 - mae: 2.3529\n",
            "Epoch 31/100\n",
            "4/4 [==============================] - 0s 3ms/step - loss: 1.9886 - mae: 1.9886\n",
            "Epoch 32/100\n",
            "4/4 [==============================] - 0s 4ms/step - loss: 1.8320 - mae: 1.8320\n",
            "Epoch 33/100\n",
            "4/4 [==============================] - 0s 5ms/step - loss: 1.7781 - mae: 1.7781\n",
            "Epoch 34/100\n",
            "4/4 [==============================] - 0s 4ms/step - loss: 1.5642 - mae: 1.5642\n",
            "Epoch 35/100\n",
            "4/4 [==============================] - 0s 4ms/step - loss: 1.5097 - mae: 1.5097\n",
            "Epoch 36/100\n",
            "4/4 [==============================] - 0s 4ms/step - loss: 1.1153 - mae: 1.1153\n",
            "Epoch 37/100\n",
            "4/4 [==============================] - 0s 5ms/step - loss: 0.8824 - mae: 0.8824\n",
            "Epoch 38/100\n",
            "4/4 [==============================] - 0s 4ms/step - loss: 0.8499 - mae: 0.8499\n",
            "Epoch 39/100\n",
            "4/4 [==============================] - 0s 4ms/step - loss: 0.5977 - mae: 0.5977\n",
            "Epoch 40/100\n",
            "4/4 [==============================] - 0s 5ms/step - loss: 0.8616 - mae: 0.8616\n",
            "Epoch 41/100\n",
            "4/4 [==============================] - 0s 4ms/step - loss: 1.9834 - mae: 1.9834\n",
            "Epoch 42/100\n",
            "4/4 [==============================] - 0s 4ms/step - loss: 5.0662 - mae: 5.0662\n",
            "Epoch 43/100\n",
            "4/4 [==============================] - 0s 4ms/step - loss: 2.5119 - mae: 2.5119\n",
            "Epoch 44/100\n",
            "4/4 [==============================] - 0s 4ms/step - loss: 3.8270 - mae: 3.8270\n",
            "Epoch 45/100\n",
            "4/4 [==============================] - 0s 6ms/step - loss: 2.4806 - mae: 2.4806\n",
            "Epoch 46/100\n",
            "4/4 [==============================] - 0s 5ms/step - loss: 3.5940 - mae: 3.5940\n",
            "Epoch 47/100\n",
            "4/4 [==============================] - 0s 5ms/step - loss: 1.9033 - mae: 1.9033\n",
            "Epoch 48/100\n",
            "4/4 [==============================] - 0s 5ms/step - loss: 1.6999 - mae: 1.6999\n",
            "Epoch 49/100\n",
            "4/4 [==============================] - 0s 5ms/step - loss: 1.8549 - mae: 1.8549\n",
            "Epoch 50/100\n",
            "4/4 [==============================] - 0s 5ms/step - loss: 3.0483 - mae: 3.0483\n",
            "Epoch 51/100\n",
            "4/4 [==============================] - 0s 5ms/step - loss: 3.3385 - mae: 3.3385\n",
            "Epoch 52/100\n",
            "4/4 [==============================] - 0s 5ms/step - loss: 1.4690 - mae: 1.4690\n",
            "Epoch 53/100\n",
            "4/4 [==============================] - 0s 6ms/step - loss: 1.1164 - mae: 1.1164\n",
            "Epoch 54/100\n",
            "4/4 [==============================] - 0s 5ms/step - loss: 0.4861 - mae: 0.4861\n",
            "Epoch 55/100\n",
            "4/4 [==============================] - 0s 5ms/step - loss: 0.9685 - mae: 0.9685\n",
            "Epoch 56/100\n",
            "4/4 [==============================] - 0s 5ms/step - loss: 0.5202 - mae: 0.5202\n",
            "Epoch 57/100\n",
            "4/4 [==============================] - 0s 5ms/step - loss: 0.3123 - mae: 0.3123\n",
            "Epoch 58/100\n",
            "4/4 [==============================] - 0s 6ms/step - loss: 0.9842 - mae: 0.9842\n",
            "Epoch 59/100\n",
            "4/4 [==============================] - 0s 6ms/step - loss: 0.4035 - mae: 0.4035\n",
            "Epoch 60/100\n",
            "4/4 [==============================] - 0s 5ms/step - loss: 0.2602 - mae: 0.2602\n",
            "Epoch 61/100\n",
            "4/4 [==============================] - 0s 5ms/step - loss: 0.3662 - mae: 0.3662\n",
            "Epoch 62/100\n",
            "4/4 [==============================] - 0s 6ms/step - loss: 0.5708 - mae: 0.5708\n",
            "Epoch 63/100\n",
            "4/4 [==============================] - 0s 5ms/step - loss: 0.5980 - mae: 0.5980\n",
            "Epoch 64/100\n",
            "4/4 [==============================] - 0s 5ms/step - loss: 0.3627 - mae: 0.3627\n",
            "Epoch 65/100\n",
            "4/4 [==============================] - 0s 5ms/step - loss: 0.5063 - mae: 0.5063\n",
            "Epoch 66/100\n",
            "4/4 [==============================] - 0s 5ms/step - loss: 0.7644 - mae: 0.7644\n",
            "Epoch 67/100\n",
            "4/4 [==============================] - 0s 7ms/step - loss: 0.8506 - mae: 0.8506\n",
            "Epoch 68/100\n",
            "4/4 [==============================] - 0s 6ms/step - loss: 0.3884 - mae: 0.3884\n",
            "Epoch 69/100\n",
            "4/4 [==============================] - 0s 6ms/step - loss: 0.1873 - mae: 0.1873\n",
            "Epoch 70/100\n",
            "4/4 [==============================] - 0s 5ms/step - loss: 0.4491 - mae: 0.4491\n",
            "Epoch 71/100\n",
            "4/4 [==============================] - 0s 5ms/step - loss: 1.4417 - mae: 1.4417\n",
            "Epoch 72/100\n",
            "4/4 [==============================] - 0s 5ms/step - loss: 1.8332 - mae: 1.8332\n",
            "Epoch 73/100\n",
            "4/4 [==============================] - 0s 6ms/step - loss: 1.2033 - mae: 1.2033\n",
            "Epoch 74/100\n",
            "4/4 [==============================] - 0s 5ms/step - loss: 2.7166 - mae: 2.7166\n",
            "Epoch 75/100\n",
            "4/4 [==============================] - 0s 6ms/step - loss: 1.3697 - mae: 1.3697\n",
            "Epoch 76/100\n",
            "4/4 [==============================] - 0s 7ms/step - loss: 1.4546 - mae: 1.4546\n",
            "Epoch 77/100\n",
            "4/4 [==============================] - 0s 5ms/step - loss: 1.3981 - mae: 1.3981\n",
            "Epoch 78/100\n",
            "4/4 [==============================] - 0s 5ms/step - loss: 2.5916 - mae: 2.5916\n",
            "Epoch 79/100\n",
            "4/4 [==============================] - 0s 4ms/step - loss: 1.3678 - mae: 1.3678\n",
            "Epoch 80/100\n",
            "4/4 [==============================] - 0s 4ms/step - loss: 0.5947 - mae: 0.5947\n",
            "Epoch 81/100\n",
            "4/4 [==============================] - 0s 4ms/step - loss: 0.9830 - mae: 0.9830\n",
            "Epoch 82/100\n",
            "4/4 [==============================] - 0s 4ms/step - loss: 1.0698 - mae: 1.0698\n",
            "Epoch 83/100\n",
            "4/4 [==============================] - 0s 5ms/step - loss: 2.1976 - mae: 2.1976\n",
            "Epoch 84/100\n",
            "4/4 [==============================] - 0s 6ms/step - loss: 1.1047 - mae: 1.1047\n",
            "Epoch 85/100\n",
            "4/4 [==============================] - 0s 4ms/step - loss: 1.0505 - mae: 1.0505\n",
            "Epoch 86/100\n",
            "4/4 [==============================] - 0s 4ms/step - loss: 1.8843 - mae: 1.8843\n",
            "Epoch 87/100\n",
            "4/4 [==============================] - 0s 4ms/step - loss: 0.5741 - mae: 0.5741\n",
            "Epoch 88/100\n",
            "4/4 [==============================] - 0s 4ms/step - loss: 0.6496 - mae: 0.6496\n",
            "Epoch 89/100\n",
            "4/4 [==============================] - 0s 4ms/step - loss: 0.7065 - mae: 0.7065\n",
            "Epoch 90/100\n",
            "4/4 [==============================] - 0s 4ms/step - loss: 0.5317 - mae: 0.5317\n",
            "Epoch 91/100\n",
            "4/4 [==============================] - 0s 4ms/step - loss: 0.4475 - mae: 0.4475\n",
            "Epoch 92/100\n",
            "4/4 [==============================] - 0s 4ms/step - loss: 0.3390 - mae: 0.3390\n",
            "Epoch 93/100\n",
            "4/4 [==============================] - 0s 4ms/step - loss: 0.3652 - mae: 0.3652\n",
            "Epoch 94/100\n",
            "4/4 [==============================] - 0s 6ms/step - loss: 0.6357 - mae: 0.6357\n",
            "Epoch 95/100\n",
            "4/4 [==============================] - 0s 5ms/step - loss: 0.3766 - mae: 0.3766\n",
            "Epoch 96/100\n",
            "4/4 [==============================] - 0s 4ms/step - loss: 0.2906 - mae: 0.2906\n",
            "Epoch 97/100\n",
            "4/4 [==============================] - 0s 4ms/step - loss: 0.6670 - mae: 0.6670\n",
            "Epoch 98/100\n",
            "4/4 [==============================] - 0s 4ms/step - loss: 0.9291 - mae: 0.9291\n",
            "Epoch 99/100\n",
            "4/4 [==============================] - 0s 4ms/step - loss: 1.2334 - mae: 1.2334\n",
            "Epoch 100/100\n",
            "4/4 [==============================] - 0s 4ms/step - loss: 1.0396 - mae: 1.0396\n"
          ]
        },
        {
          "output_type": "execute_result",
          "data": {
            "text/plain": [
              "<keras.callbacks.History at 0x7f196e18b880>"
            ]
          },
          "metadata": {},
          "execution_count": 93
        }
      ]
    },
    {
      "cell_type": "code",
      "source": [
        "x= tf.constant([17,12,45,34,5,66,30,55,110])\n",
        "y= x+10\n",
        "pred = model.predict(x)"
      ],
      "metadata": {
        "colab": {
          "base_uri": "https://localhost:8080/"
        },
        "id": "IPrzjxdh6tb6",
        "outputId": "523bcca7-4928-40f1-fe92-d311193a8b4b"
      },
      "execution_count": null,
      "outputs": [
        {
          "output_type": "stream",
          "name": "stdout",
          "text": [
            "1/1 [==============================] - 0s 21ms/step\n"
          ]
        }
      ]
    },
    {
      "cell_type": "code",
      "source": [
        "tf.keras.metrics.mae(y,tf.squeeze(pred))\n",
        "tf.keras.metrics.mean_squared_error(y,tf.squeeze(pred))\n",
        "model.evaluate(x, y)\n"
      ],
      "metadata": {
        "colab": {
          "base_uri": "https://localhost:8080/"
        },
        "id": "kDp7Nb6EC__C",
        "outputId": "3fef3074-2fa3-41c8-89db-ba2641d8bd96"
      },
      "execution_count": null,
      "outputs": [
        {
          "output_type": "stream",
          "name": "stdout",
          "text": [
            "1/1 [==============================] - 0s 167ms/step - loss: 0.7334 - mae: 0.7334\n"
          ]
        },
        {
          "output_type": "execute_result",
          "data": {
            "text/plain": [
              "[0.7334254384040833, 0.7334254384040833]"
            ]
          },
          "metadata": {},
          "execution_count": 111
        }
      ]
    }
  ]
}