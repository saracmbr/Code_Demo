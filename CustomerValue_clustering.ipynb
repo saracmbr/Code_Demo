{
 "cells": [
  {
   "cell_type": "code",
   "execution_count": 143,
   "metadata": {},
   "outputs": [],
   "source": [
    "from __future__ import division\n",
    "import plotly as ply\n",
    "import pandas as pd\n",
    "import matplotlib.mlab as mlab\n",
    "import matplotlib.pyplot as plt\n",
    "from matplotlib.pyplot import figure\n",
    "from sklearn.cluster import KMeans"
   ]
  },
  {
   "cell_type": "code",
   "execution_count": 144,
   "metadata": {},
   "outputs": [],
   "source": [
    "import pyodbc\n",
    "\n",
    "driver = '{SQL Server Native Client 11.0}'\n",
    "server = 'SERVER'\n",
    "db1 = 'DB'\n",
    "tcon = 'yes'\n",
    "\n",
    "\n",
    "cnxn = pyodbc.connect(driver=driver, \n",
    "                      host=server, database=db1, trusted_connection=tcon\n",
    "                      )\n",
    "\n",
    "reg = pd.read_sql_query('select * from mytable', cnxn)\n",
    "\n"
   ]
  },
  {
   "cell_type": "code",
   "execution_count": null,
   "metadata": {},
   "outputs": [],
   "source": []
  },
  {
   "cell_type": "code",
   "execution_count": 146,
   "metadata": {},
   "outputs": [],
   "source": [
    "reg = reg.set_index('ID')\n"
   ]
  },
  {
   "cell_type": "markdown",
   "metadata": {},
   "source": [
    "# Visualizing the data\n",
    "\n"
   ]
  },
  {
   "cell_type": "code",
   "execution_count": 149,
   "metadata": {},
   "outputs": [],
   "source": [
    "def grouping(col):\n",
    "    g = reg[reg['cust_type'] == 'G'][col]\n",
    "    d = reg[reg['cust_type'] == 'D'][col]\n",
    "    return g,d\n"
   ]
  },
  {
   "cell_type": "code",
   "execution_count": 2,
   "metadata": {},
   "outputs": [],
   "source": [
    "#from matplotlib.pyplot import figure\n",
    "#figure(num=None, figsize=(8, 6), dpi=80, facecolor='w', edgecolor='k')\n",
    "#plt.hist(grouping('Recency')[0], bins=25, alpha=0.5, label='G', color='b')\n",
    "#plt.hist(grouping('Recency')[1], bins=25, alpha=0.5, label='D', color='r')\n",
    "#plt.legend(loc='upper right')\n",
    "#plt.title('Customer Recency')\n",
    "#plt.tight_layout(pad=0.4, w_pad=0.5, h_pad=1.0)"
   ]
  },
  {
   "cell_type": "code",
   "execution_count": null,
   "metadata": {},
   "outputs": [],
   "source": []
  },
  {
   "cell_type": "code",
   "execution_count": 3,
   "metadata": {},
   "outputs": [],
   "source": [
    "##from matplotlib.pyplot import figure\n",
    "##figure(num=None, figsize=(8, 6), dpi=80, facecolor='w', edgecolor='k')\n",
    "##plt.hist(grouping('max_lag')[0], bins=25, alpha=0.5, label='G', color='b')\n",
    "##plt.hist(grouping('max_lag')[1], bins=25, alpha=0.5, label='D', color='r')\n",
    "##plt.legend(loc='upper right')\n",
    "##plt.title('Customer Max Lag')\n",
    "#plt.tight_layout(pad=0.4, w_pad=0.5, h_pad=1.0)"
   ]
  },
  {
   "cell_type": "code",
   "execution_count": null,
   "metadata": {},
   "outputs": [],
   "source": []
  },
  {
   "cell_type": "code",
   "execution_count": null,
   "metadata": {},
   "outputs": [],
   "source": []
  },
  {
   "cell_type": "markdown",
   "metadata": {},
   "source": [
    "# Data Cleaning"
   ]
  },
  {
   "cell_type": "code",
   "execution_count": 148,
   "metadata": {},
   "outputs": [],
   "source": [
    "reg = reg[(reg['dis_per_v']<0) & (reg['dis_per_v']>-50) & (reg['f']>2) \n",
    "                                                                   & (reg['f']<50) & (reg['V']<1500)]"
   ]
  },
  {
   "cell_type": "code",
   "execution_count": 4,
   "metadata": {},
   "outputs": [],
   "source": [
    "#from matplotlib.pyplot import figure\n",
    "#figure(num=None, figsize=(8, 6), dpi=80, facecolor='w', edgecolor='k')\n",
    "#plt.hist(grouping('dis_per_v')[0], bins=25, alpha=0.5, label='G', color='b')\n",
    "#plt.hist(grouping('dis_per_v')[1], bins=25, alpha=0.5, label='D', color='r')\n",
    "#plt.legend(loc='upper right')\n",
    "#plt.title('Customer discount per visit')\n",
    "#plt.tight_layout(pad=0.4, w_pad=0.5, h_pad=1.0)"
   ]
  },
  {
   "cell_type": "markdown",
   "metadata": {},
   "source": [
    "# Kmeans Clustering"
   ]
  },
  {
   "cell_type": "code",
   "execution_count": 22,
   "metadata": {},
   "outputs": [
    {
     "data": {
      "text/plain": [
       "Text(0.5, 1.0, 'Recency Elbow curve')"
      ]
     },
     "execution_count": 22,
     "metadata": {},
     "output_type": "execute_result"
    },
    {
     "data": {
      "image/png": "[encoded data removed]",
      "text/plain": [
       "<Figure size 1080x360 with 1 Axes>"
      ]
     },
     "metadata": {
      "needs_background": "light"
     },
     "output_type": "display_data"
    }
   ],
   "source": [
    "# First we find the optimal number of clusters using the elbow method\n",
    "# Remember to set the random state to reproduce\n",
    "#The location of a bend (knee) in the plot is generally considered as an indicator of the appropriate number of clusters.\n",
    "# looks like k=5 is the optimal number\n",
    "\n",
    "df_recency = reg[['Recency']]\n",
    "#df_normalized[['Recency']]\n",
    "\n",
    "distorsions = []\n",
    "for k in range(2, 8):\n",
    "    kmeans = KMeans(n_clusters=k,random_state=10,n_jobs = -1)\n",
    "    kmeans.fit(df_recency)\n",
    "    distorsions.append(kmeans.inertia_)\n",
    "\n",
    "fig = plt.figure(figsize=(15, 5))\n",
    "plt.plot(range(2, 8), distorsions)\n",
    "plt.grid(True)\n",
    "plt.title('Recency Elbow curve')\n"
   ]
  },
  {
   "cell_type": "code",
   "execution_count": 50,
   "metadata": {},
   "outputs": [],
   "source": [
    "# Also checking the number of optimal cluster with silhouette\n",
    "#The optimal number of clusters is the one that maximize the average silhouette over a range of possible values for k. \n",
    "\n",
    "#from sklearn.metrics import silhouette_samples, silhouette_score\n",
    "\n",
    "#df_recency = reg[['Recency']]\n",
    "#df_normalized[['Recency']]\n",
    "\n",
    "#silhouette_avg = []\n",
    "#for k in range(2, 5):\n",
    " #   kmeans = KMeans(n_clusters=k,random_state=10,n_jobs = -1)\n",
    " #   cluster_labels = kmeans.fit_predict(df_recency)\n",
    "#    silhouette_avg.append(silhouette_score(df_recency, cluster_labels))\n",
    " #   silhouette_avg = silhouette_score(df_recency, cluster_labels)\n",
    " #   print(\"For n_clusters =\", n_clusters,\n",
    "  #        \"The average silhouette_score is :\", silhouette_avg)\n",
    "\n",
    "    \n",
    "#fig = plt.figure(figsize=(15, 5))\n",
    "#plt.plot(range(2, 10), silhouette_avg)\n",
    "#plt.grid(True)\n",
    "#plt.title('silhouette')\n"
   ]
  },
  {
   "cell_type": "code",
   "execution_count": 29,
   "metadata": {},
   "outputs": [],
   "source": [
    "#Recency kmeans clustering\n",
    "kmeans = KMeans(n_clusters=4,n_jobs = -1)\n",
    "\n",
    "kmeans.fit(reg[['Recency']])\n",
    "\n",
    "reg['RecencyCluster'] = kmeans.predict(reg[['Recency']])\n"
   ]
  },
  {
   "cell_type": "code",
   "execution_count": 24,
   "metadata": {},
   "outputs": [],
   "source": [
    "#function for ordering cluster numbers acording to the mean of the feature \n",
    "\n",
    "def order_cluster(cluster_field_name, target_field_name,df,ascending):\n",
    "\n",
    "    new_cluster_field_name = 'new_' + cluster_field_name\n",
    "\n",
    "    df_new = df.groupby(cluster_field_name)[target_field_name].mean().reset_index()\n",
    "\n",
    "    df_new = df_new.sort_values(by=target_field_name,ascending=ascending).reset_index(drop=True)\n",
    "\n",
    "    df_new['index'] = df_new.index\n",
    "\n",
    "    df_final = pd.merge(df,df_new[[cluster_field_name,'index']], on=cluster_field_name)\n",
    "\n",
    "    df_final = df_final.drop([cluster_field_name],axis=1)\n",
    "\n",
    "    df_final = df_final.rename(columns={\"index\":cluster_field_name})\n",
    "\n",
    "    return df_final"
   ]
  },
  {
   "cell_type": "code",
   "execution_count": 30,
   "metadata": {},
   "outputs": [],
   "source": [
    "# Ordering the recency clusters\n",
    "reg = order_cluster('RecencyCluster', 'Recency',reg,False)"
   ]
  },
  {
   "cell_type": "code",
   "execution_count": 5,
   "metadata": {},
   "outputs": [],
   "source": [
    "#reg[reg['RecencyCluster']==0].head()"
   ]
  },
  {
   "cell_type": "code",
   "execution_count": 6,
   "metadata": {},
   "outputs": [],
   "source": [
    "# Cluster stats\n",
    "#reg.groupby(['RecencyCluster'])['Recency'].describe()"
   ]
  },
  {
   "cell_type": "code",
   "execution_count": 7,
   "metadata": {
    "scrolled": false
   },
   "outputs": [
    {
     "ename": "NameError",
     "evalue": "name 'reg' is not defined",
     "output_type": "error",
     "traceback": [
      "\u001b[1;31m---------------------------------------------------------------------------\u001b[0m",
      "\u001b[1;31mNameError\u001b[0m                                 Traceback (most recent call last)",
      "\u001b[1;32m<ipython-input-7-b1e5911fa841>\u001b[0m in \u001b[0;36m<module>\u001b[1;34m\u001b[0m\n\u001b[0;32m      8\u001b[0m                         connectivity=None,linkage='ward', memory=None, n_clusters=4)\n\u001b[0;32m      9\u001b[0m \u001b[1;33m\u001b[0m\u001b[0m\n\u001b[1;32m---> 10\u001b[1;33m \u001b[0mtemp\u001b[0m \u001b[1;33m=\u001b[0m\u001b[0mreg\u001b[0m\u001b[1;33m[\u001b[0m\u001b[1;33m[\u001b[0m\u001b[1;34m'Recency'\u001b[0m\u001b[1;33m]\u001b[0m\u001b[1;33m]\u001b[0m\u001b[1;33m.\u001b[0m\u001b[0msample\u001b[0m\u001b[1;33m(\u001b[0m\u001b[1;36m30000\u001b[0m\u001b[1;33m,\u001b[0m\u001b[0mreplace\u001b[0m\u001b[1;33m=\u001b[0m\u001b[1;34m'False'\u001b[0m\u001b[1;33m)\u001b[0m\u001b[1;33m\u001b[0m\u001b[1;33m\u001b[0m\u001b[0m\n\u001b[0m\u001b[0;32m     11\u001b[0m \u001b[0mtemp\u001b[0m\u001b[1;33m[\u001b[0m\u001b[1;34m'RecencyHCluster'\u001b[0m\u001b[1;33m]\u001b[0m \u001b[1;33m=\u001b[0m \u001b[0mward\u001b[0m\u001b[1;33m.\u001b[0m\u001b[0mfit_predict\u001b[0m\u001b[1;33m(\u001b[0m\u001b[0mtemp\u001b[0m\u001b[1;33m)\u001b[0m\u001b[1;33m\u001b[0m\u001b[1;33m\u001b[0m\u001b[0m\n\u001b[0;32m     12\u001b[0m \u001b[1;33m\u001b[0m\u001b[0m\n",
      "\u001b[1;31mNameError\u001b[0m: name 'reg' is not defined"
     ]
    }
   ],
   "source": [
    "# Hierarchical clustering on the sample of data to check against Kmeans clustering. \n",
    "#This is for asuring that the clustering is algorithm invariant.\n",
    "\n",
    "from sklearn.cluster import AgglomerativeClustering\n",
    "\n",
    "\n",
    "ward = AgglomerativeClustering(affinity='euclidean', compute_full_tree='auto',\n",
    "                        connectivity=None,linkage='ward', memory=None, n_clusters=4)\n",
    "\n",
    "temp =reg[['Recency']].sample(30000,replace='False')\n",
    "temp['RecencyHCluster'] = ward.fit_predict(temp)\n",
    "\n",
    "\n",
    "\n",
    "#temp.groupby(['RecencyHCluster'])['Recency'].describe()"
   ]
  },
  {
   "cell_type": "code",
   "execution_count": 63,
   "metadata": {
    "scrolled": true
   },
   "outputs": [
    {
     "data": {
      "text/html": [
       "<div>\n",
       "<style scoped>\n",
       "    .dataframe tbody tr th:only-of-type {\n",
       "        vertical-align: middle;\n",
       "    }\n",
       "\n",
       "    .dataframe tbody tr th {\n",
       "        vertical-align: top;\n",
       "    }\n",
       "\n",
       "    .dataframe thead th {\n",
       "        text-align: right;\n",
       "    }\n",
       "</style>\n",
       "<table border=\"1\" class=\"dataframe\">\n",
       "  <thead>\n",
       "    <tr style=\"text-align: right;\">\n",
       "      <th></th>\n",
       "      <th>count</th>\n",
       "      <th>mean</th>\n",
       "      <th>std</th>\n",
       "      <th>min</th>\n",
       "      <th>25%</th>\n",
       "      <th>50%</th>\n",
       "      <th>75%</th>\n",
       "      <th>max</th>\n",
       "    </tr>\n",
       "    <tr>\n",
       "      <th>RecencyHCluster</th>\n",
       "      <th></th>\n",
       "      <th></th>\n",
       "      <th></th>\n",
       "      <th></th>\n",
       "      <th></th>\n",
       "      <th></th>\n",
       "      <th></th>\n",
       "      <th></th>\n",
       "    </tr>\n",
       "  </thead>\n",
       "  <tbody>\n",
       "    <tr>\n",
       "      <th>0</th>\n",
       "      <td>29883.0</td>\n",
       "      <td>44.928822</td>\n",
       "      <td>45.308341</td>\n",
       "      <td>0.0</td>\n",
       "      <td>9.0</td>\n",
       "      <td>29.0</td>\n",
       "      <td>67.0</td>\n",
       "      <td>177.0</td>\n",
       "    </tr>\n",
       "    <tr>\n",
       "      <th>1</th>\n",
       "      <td>74.0</td>\n",
       "      <td>179.000000</td>\n",
       "      <td>0.000000</td>\n",
       "      <td>179.0</td>\n",
       "      <td>179.0</td>\n",
       "      <td>179.0</td>\n",
       "      <td>179.0</td>\n",
       "      <td>179.0</td>\n",
       "    </tr>\n",
       "    <tr>\n",
       "      <th>2</th>\n",
       "      <td>43.0</td>\n",
       "      <td>178.000000</td>\n",
       "      <td>0.000000</td>\n",
       "      <td>178.0</td>\n",
       "      <td>178.0</td>\n",
       "      <td>178.0</td>\n",
       "      <td>178.0</td>\n",
       "      <td>178.0</td>\n",
       "    </tr>\n",
       "  </tbody>\n",
       "</table>\n",
       "</div>"
      ],
      "text/plain": [
       "                   count        mean        std    min    25%    50%    75%  \\\n",
       "RecencyHCluster                                                               \n",
       "0                29883.0   44.928822  45.308341    0.0    9.0   29.0   67.0   \n",
       "1                   74.0  179.000000   0.000000  179.0  179.0  179.0  179.0   \n",
       "2                   43.0  178.000000   0.000000  178.0  178.0  178.0  178.0   \n",
       "\n",
       "                   max  \n",
       "RecencyHCluster         \n",
       "0                177.0  \n",
       "1                179.0  \n",
       "2                178.0  "
      ]
     },
     "execution_count": 63,
     "metadata": {},
     "output_type": "execute_result"
    }
   ],
   "source": [
    "### Looks like that single linkage is not a good method\n",
    "\n",
    "from sklearn.cluster import AgglomerativeClustering\n",
    "\n",
    "\n",
    "single_link = AgglomerativeClustering(affinity='euclidean', compute_full_tree='auto',\n",
    "                        connectivity=None,linkage='single', memory=None, n_clusters=4)\n",
    "\n",
    "temp =reg[['Recency']].sample(30000,replace='False')\n",
    "temp['RecencyHCluster'] = single_link.fit_predict(temp)\n",
    "\n",
    "\n",
    "\n",
    "#temp.groupby(['RecencyHCluster'])['Recency'].describe()"
   ]
  },
  {
   "cell_type": "code",
   "execution_count": 64,
   "metadata": {},
   "outputs": [
    {
     "data": {
      "text/html": [
       "<div>\n",
       "<style scoped>\n",
       "    .dataframe tbody tr th:only-of-type {\n",
       "        vertical-align: middle;\n",
       "    }\n",
       "\n",
       "    .dataframe tbody tr th {\n",
       "        vertical-align: top;\n",
       "    }\n",
       "\n",
       "    .dataframe thead th {\n",
       "        text-align: right;\n",
       "    }\n",
       "</style>\n",
       "<table border=\"1\" class=\"dataframe\">\n",
       "  <thead>\n",
       "    <tr style=\"text-align: right;\">\n",
       "      <th></th>\n",
       "      <th>count</th>\n",
       "      <th>mean</th>\n",
       "      <th>std</th>\n",
       "      <th>min</th>\n",
       "      <th>25%</th>\n",
       "      <th>50%</th>\n",
       "      <th>75%</th>\n",
       "      <th>max</th>\n",
       "    </tr>\n",
       "    <tr>\n",
       "      <th>RecencyHCluster</th>\n",
       "      <th></th>\n",
       "      <th></th>\n",
       "      <th></th>\n",
       "      <th></th>\n",
       "      <th></th>\n",
       "      <th></th>\n",
       "      <th></th>\n",
       "      <th></th>\n",
       "    </tr>\n",
       "  </thead>\n",
       "  <tbody>\n",
       "    <tr>\n",
       "      <th>0</th>\n",
       "      <td>29886.0</td>\n",
       "      <td>45.312287</td>\n",
       "      <td>45.679861</td>\n",
       "      <td>0.0</td>\n",
       "      <td>9.0</td>\n",
       "      <td>29.0</td>\n",
       "      <td>67.0</td>\n",
       "      <td>177.0</td>\n",
       "    </tr>\n",
       "    <tr>\n",
       "      <th>1</th>\n",
       "      <td>54.0</td>\n",
       "      <td>179.000000</td>\n",
       "      <td>0.000000</td>\n",
       "      <td>179.0</td>\n",
       "      <td>179.0</td>\n",
       "      <td>179.0</td>\n",
       "      <td>179.0</td>\n",
       "      <td>179.0</td>\n",
       "    </tr>\n",
       "    <tr>\n",
       "      <th>2</th>\n",
       "      <td>60.0</td>\n",
       "      <td>178.000000</td>\n",
       "      <td>0.000000</td>\n",
       "      <td>178.0</td>\n",
       "      <td>178.0</td>\n",
       "      <td>178.0</td>\n",
       "      <td>178.0</td>\n",
       "      <td>178.0</td>\n",
       "    </tr>\n",
       "  </tbody>\n",
       "</table>\n",
       "</div>"
      ],
      "text/plain": [
       "                   count        mean        std    min    25%    50%    75%  \\\n",
       "RecencyHCluster                                                               \n",
       "0                29886.0   45.312287  45.679861    0.0    9.0   29.0   67.0   \n",
       "1                   54.0  179.000000   0.000000  179.0  179.0  179.0  179.0   \n",
       "2                   60.0  178.000000   0.000000  178.0  178.0  178.0  178.0   \n",
       "\n",
       "                   max  \n",
       "RecencyHCluster         \n",
       "0                177.0  \n",
       "1                179.0  \n",
       "2                178.0  "
      ]
     },
     "execution_count": 64,
     "metadata": {},
     "output_type": "execute_result"
    }
   ],
   "source": [
    "### Looks like that single linkage is not a good method, I'm changing the metric to “manhattan”\n",
    "\n",
    "from sklearn.cluster import AgglomerativeClustering\n",
    "\n",
    "\n",
    "single_link = AgglomerativeClustering(affinity='manhattan', compute_full_tree='auto',\n",
    "                        connectivity=None,linkage='single', memory=None, n_clusters=4)\n",
    "\n",
    "temp =reg[['Recency']].sample(30000,replace='False')\n",
    "temp['RecencyHCluster'] = single_link.fit_predict(temp)\n",
    "\n",
    "from matplotlib.pyplot import figure\n",
    "figure(num=None, figsize=(8, 6), dpi=80, facecolor='w', edgecolor='k')\n",
    "plt.hist(grouping('Ave_lag')[0], bins=25, alpha=0.5, label='FB', color='b')\n",
    "plt.hist(grouping('Ave_lag')[1], bins=25, alpha=0.5, label='AP', color='r')\n",
    "plt.legend(loc='upper right')\n",
    "plt.title(' Customer Average Lag')\n",
    "plt.tight_layout(pad=0.4, w_pad=0.5, h_pad=1.0)\n",
    "\n",
    "#temp.groupby(['RecencyHCluster'])['Recency'].describe()"
   ]
  },
  {
   "cell_type": "code",
   "execution_count": 8,
   "metadata": {},
   "outputs": [],
   "source": [
    "#from matplotlib.pyplot import figure\n",
    "#figure(num=None, figsize=(10, 8), dpi=80, facecolor='w', edgecolor='k')\n",
    "#plt.hist(reg[reg['visits']<60]['visits'], bins=30, alpha=0.5, label='Freq', color='b')\n",
    "#plt.title('Customer Frequency')\n",
    "#plt.tight_layout(pad=0.4, w_pad=0.5, h_pad=1.0)"
   ]
  },
  {
   "cell_type": "code",
   "execution_count": 133,
   "metadata": {},
   "outputs": [
    {
     "data": {
      "text/plain": [
       "0.7783560608263309"
      ]
     },
     "execution_count": 133,
     "metadata": {},
     "output_type": "execute_result"
    }
   ],
   "source": [
    "(reg[reg['f']>50].shape[0]/reg.shape[0])*100"
   ]
  },
  {
   "cell_type": "code",
   "execution_count": 93,
   "metadata": {},
   "outputs": [
    {
     "data": {
      "text/plain": [
       "Text(0.5, 1.0, 'Frequency Elbow curve')"
      ]
     },
     "execution_count": 93,
     "metadata": {},
     "output_type": "execute_result"
    },
    {
     "data": {
      "image/png": "[encoded data removed]",
      "text/plain": [
       "<Figure size 1080x360 with 1 Axes>"
      ]
     },
     "metadata": {
      "needs_background": "light"
     },
     "output_type": "display_data"
    }
   ],
   "source": [
    "#### Visits kmeans clustering\n",
    "\n",
    "df_visits = reg[['f']]\n",
    "#df_normalized[['visits']]\n",
    "\n",
    "distorsions = []\n",
    "for k in range(2, 10):\n",
    "    kmeans = KMeans(n_clusters=k,random_state=10,n_jobs = -1)\n",
    "    kmeans.fit(df_visits)\n",
    "    distorsions.append(kmeans.inertia_)\n",
    "\n",
    "fig = plt.figure(figsize=(15, 5))\n",
    "plt.plot(range(2, 10), distorsions)\n",
    "plt.grid(True)\n",
    "plt.title('Frequency Elbow curve')\n",
    "\n"
   ]
  },
  {
   "cell_type": "code",
   "execution_count": 94,
   "metadata": {},
   "outputs": [],
   "source": [
    "# kmeans clustering\n",
    "kmeans = KMeans(n_clusters=6,n_jobs = -1)\n",
    "\n",
    "kmeans.fit(reg[['f']])\n",
    "\n",
    "reg['visitsCluster'] = kmeans.predict(reg[['f']])"
   ]
  },
  {
   "cell_type": "code",
   "execution_count": 95,
   "metadata": {},
   "outputs": [],
   "source": [
    "# Ordering the visits clustersreg.groupby(['RecencyCluster'])['Recency'].describe()\n",
    "reg = order_cluster('visitsCluster', 'f',reg,True)"
   ]
  },
  {
   "cell_type": "code",
   "execution_count": 9,
   "metadata": {},
   "outputs": [],
   "source": [
    "#reg.groupby(['visitsCluster'])['f'].describe()"
   ]
  },
  {
   "cell_type": "code",
   "execution_count": 10,
   "metadata": {},
   "outputs": [],
   "source": [
    "#from matplotlib.pyplot import figure\n",
    "#figure(num=None, figsize=(10, 8), dpi=80, facecolor='w', edgecolor='k')\n",
    "#plt.hist(reg[reg['Vol_sum']<2000]['Vol_sum'], bins=50, alpha=0.5, label='Vol', color='b')\n",
    "#plt.title('Customer Volume')\n",
    "#plt.tight_layout(pad=0.4, w_pad=0.5, h_pad=1.0)"
   ]
  },
  {
   "cell_type": "code",
   "execution_count": 136,
   "metadata": {},
   "outputs": [
    {
     "data": {
      "text/plain": [
       "0.45270839996510914"
      ]
     },
     "execution_count": 136,
     "metadata": {},
     "output_type": "execute_result"
    }
   ],
   "source": [
    "(reg[reg['V']>1500].shape[0]/reg.shape[0])*100"
   ]
  },
  {
   "cell_type": "code",
   "execution_count": 102,
   "metadata": {},
   "outputs": [
    {
     "data": {
      "text/plain": [
       "Text(0.5, 1.0, 'Volume Elbow curve')"
      ]
     },
     "execution_count": 102,
     "metadata": {},
     "output_type": "execute_result"
    },
    {
     "data": {
      "image/png": "[encoded data removed]",
      "text/plain": [
       "<Figure size 1080x360 with 1 Axes>"
      ]
     },
     "metadata": {
      "needs_background": "light"
     },
     "output_type": "display_data"
    }
   ],
   "source": [
    "#### volume kmeans clustering\n",
    "\n",
    "df_visists = reg[['V']]\n",
    "#df_normalized[['visits']]\n",
    "\n",
    "distorsions = []\n",
    "for k in range(2, 10):\n",
    "    kmeans = KMeans(n_clusters=k,random_state=10,n_jobs = -1)\n",
    "    kmeans.fit(df_visists)\n",
    "    distorsions.append(kmeans.inertia_)\n",
    "\n",
    "fig = plt.figure(figsize=(15, 5))\n",
    "plt.plot(range(2, 10), distorsions)\n",
    "plt.grid(True)\n",
    "plt.title('Volume Elbow curve')\n"
   ]
  },
  {
   "cell_type": "code",
   "execution_count": 103,
   "metadata": {},
   "outputs": [],
   "source": [
    "#Volume kmeans clustering\n",
    "kmeans = KMeans(n_clusters=5,n_jobs = -1)\n",
    "\n",
    "kmeans.fit(reg[['V']])\n",
    "\n",
    "reg['VCluster'] = kmeans.predict(reg[['V']])"
   ]
  },
  {
   "cell_type": "code",
   "execution_count": 104,
   "metadata": {},
   "outputs": [],
   "source": [
    "reg = order_cluster('VCluster', 'V',reg,True)"
   ]
  },
  {
   "cell_type": "code",
   "execution_count": 11,
   "metadata": {},
   "outputs": [],
   "source": [
    "#reg.groupby(['VCluster'])['V'].describe()"
   ]
  },
  {
   "cell_type": "code",
   "execution_count": 31,
   "metadata": {},
   "outputs": [
    {
     "data": {
      "text/plain": [
       "Text(0.5, 1.0, 'Elbow curve')"
      ]
     },
     "execution_count": 31,
     "metadata": {},
     "output_type": "execute_result"
    },
    {
     "data": {
      "image/png": "[encoded data removed]",
      "text/plain": [
       "<Figure size 1080x360 with 1 Axes>"
      ]
     },
     "metadata": {
      "needs_background": "light"
     },
     "output_type": "display_data"
    }
   ],
   "source": [
    "#### avg_lag kmeans clustering\n",
    "\n",
    "df_vol_sum = reg[['dis_per_visit']]\n",
    "#df_normalized[['avg_lag']]\n",
    "\n",
    "distorsions = []\n",
    "for k in range(2, 7):\n",
    "    kmeans = KMeans(n_clusters=k,random_state=10)\n",
    "    kmeans.fit(df_vol_sum)\n",
    "    distorsions.append(kmeans.inertia_)\n",
    "\n",
    "fig = plt.figure(figsize=(15, 5))\n",
    "plt.plot(range(2, 7), distorsions)\n",
    "plt.grid(True)\n",
    "plt.title('Discount per Visit Elbow curve')\n"
   ]
  },
  {
   "cell_type": "code",
   "execution_count": 47,
   "metadata": {},
   "outputs": [],
   "source": [
    "#Discount kmeans clustering\n",
    "kmeans = KMeans(n_clusters=4,n_jobs = -1)\n",
    "\n",
    "kmeans.fit(reg[['dis_per_v']])\n",
    "\n",
    "reg['Disc_Cluster'] = kmeans.predict(reg[['dis_per_v']])"
   ]
  },
  {
   "cell_type": "code",
   "execution_count": 48,
   "metadata": {},
   "outputs": [],
   "source": [
    "reg = order_cluster('Disc_Cluster', 'dis_per_v',reg,True)"
   ]
  },
  {
   "cell_type": "code",
   "execution_count": 12,
   "metadata": {},
   "outputs": [],
   "source": [
    "#reg.groupby(['Disc_Cluster'])['dis_per_visit'].describe()"
   ]
  },
  {
   "cell_type": "code",
   "execution_count": 13,
   "metadata": {},
   "outputs": [],
   "source": [
    "#avg_lag kmeans clustering\n",
    "kmeans = KMeans(n_clusters=4,n_jobs = -1)\n",
    "\n",
    "kmeans.fit(reg[['Ave_lag']])\n",
    "\n",
    "reg['Lag_Cluster'] = kmeans.predict(reg[['Ave_lag']])\n",
    "\n",
    "reg = order_cluster('Lag_Cluster', 'Ave_lag',reg,False)\n",
    "\n",
    "reg.groupby(['Lag_Cluster'])['Ave_lag'].describe()"
   ]
  },
  {
   "cell_type": "code",
   "execution_count": 14,
   "metadata": {},
   "outputs": [],
   "source": [
    "#Create a scoring\n",
    "\n",
    "reg['OverallScore'] = reg['RecencyCluster'] + reg['visitsCluster'] + reg['VCluster']+ reg['Disc_Cluster']+ reg['Lag_Cluster']\n",
    "\n",
    "#Visualizing the scores to see if we can see distinct clusters\n",
    "\n",
    "from matplotlib.pyplot import figure\n",
    "figure(num=None, figsize=(8, 6), dpi=80, facecolor='w', edgecolor='k')\n",
    "plt.hist(reg['OverallScore'] , bins=100, alpha=0.5, label='Overal Score', color='b')\n",
    "plt.title('Customer Overal Score')\n",
    "plt.tight_layout(pad=0.4, w_pad=0.5, h_pad=1.0)\n",
    "\n"
   ]
  },
  {
   "cell_type": "code",
   "execution_count": 107,
   "metadata": {},
   "outputs": [
    {
     "data": {
      "text/plain": [
       "Text(0.5, 1.0, 'OverallScore Elbow curve')"
      ]
     },
     "execution_count": 107,
     "metadata": {},
     "output_type": "execute_result"
    },
    {
     "data": {
      "image/png": "[encoded data removed]",
      "text/plain": [
       "<Figure size 1080x360 with 1 Axes>"
      ]
     },
     "metadata": {
      "needs_background": "light"
     },
     "output_type": "display_data"
    }
   ],
   "source": [
    "df_vol_sum = reg[['OverallScore']]\n",
    "#df_normalized[['avg_lag']]\n",
    "\n",
    "distorsions = []\n",
    "for k in range(2, 7):\n",
    "    kmeans = KMeans(n_clusters=k,random_state=10)\n",
    "    kmeans.fit(df_vol_sum)\n",
    "    distorsions.append(kmeans.inertia_)\n",
    "\n",
    "fig = plt.figure(figsize=(15, 5))\n",
    "plt.plot(range(2, 7), distorsions)\n",
    "plt.grid(True)\n",
    "plt.title('OverallScore Elbow curve')"
   ]
  },
  {
   "cell_type": "code",
   "execution_count": 108,
   "metadata": {},
   "outputs": [],
   "source": [
    "#Overal Score kmeans clustering\n",
    "kmeans = KMeans(n_clusters=3,n_jobs = -1)\n",
    "\n",
    "kmeans.fit(reg[['OverallScore']])\n",
    "\n",
    "reg['OverallScoreCluster'] = kmeans.predict(reg[['OverallScore']])"
   ]
  },
  {
   "cell_type": "code",
   "execution_count": 109,
   "metadata": {},
   "outputs": [],
   "source": [
    "reg = order_cluster('OverallScoreCluster', 'OverallScore',reg,True)"
   ]
  },
  {
   "cell_type": "code",
   "execution_count": 15,
   "metadata": {},
   "outputs": [],
   "source": [
    "#reg.groupby(['OverallScoreCluster'])['OverallScore'].describe()"
   ]
  },
  {
   "cell_type": "code",
   "execution_count": 61,
   "metadata": {},
   "outputs": [],
   "source": [
    "#Labeling the segments by clustering\n",
    "\n",
    "reg['Segment_clustered'] = 'Low-Value'\n",
    "\n",
    "reg.loc[reg['OverallScoreCluster']==1,'Segment_clustered'] = 'Mid-Value' \n",
    "\n",
    "reg.loc[reg['OverallScoreCluster']==2,'Segment_clustered'] = 'High-Value' "
   ]
  },
  {
   "cell_type": "code",
   "execution_count": 71,
   "metadata": {},
   "outputs": [],
   "source": [
    "#Labeling the segments by rules\n",
    "reg['Segment_ruled'] = 'Low-Value'\n",
    "\n",
    "reg.loc[reg['OverallScore']>=5.5,'Segment_ruled'] = 'Mid-Value' \n",
    "\n",
    "reg.loc[reg['OverallScore']>=9.5,'Segment_ruled'] = 'High-Value' "
   ]
  },
  {
   "cell_type": "code",
   "execution_count": null,
   "metadata": {},
   "outputs": [],
   "source": []
  },
  {
   "cell_type": "code",
   "execution_count": 16,
   "metadata": {},
   "outputs": [],
   "source": [
    "# Visualizing the segments\n",
    "\n",
    "#Volume vs Frequency with score clustering\n",
    "\n",
    "#data = reg.query(\"V < 5000 and f < 100\")\n",
    "#groups = data.groupby(['Segment_clustered'])\n",
    "\n",
    "#from matplotlib.pyplot import figure\n",
    "\n",
    "#fig,ax = plt.subplots()\n",
    "#ax.margins(0.05) \n",
    "#for name, group in groups:\n",
    " #   ax.plot(group['f'], group['V'], marker='o', linestyle='',  label=name,ms=group['OverallScore'].max())\n",
    "#ax.legend()\n",
    "\n",
    "\n",
    "#plt.show()\n"
   ]
  },
  {
   "cell_type": "code",
   "execution_count": 17,
   "metadata": {},
   "outputs": [],
   "source": [
    "#Volume vs Frequency with rulebased segmenting\n",
    "\n",
    "data = reg.query(\"Vol_sum < 5000 and visits < 100\")\n",
    "groups = data.groupby(['Segment_ruled'])\n",
    "\n",
    "from matplotlib.pyplot import figure\n",
    "\n",
    "fig,ax = plt.subplots()\n",
    "ax.margins(0.05) \n",
    "for name, group in groups:\n",
    "    ax.plot(group['visits'], group['Vol_sum'], marker='o', linestyle='', label=name,ms=group['OverallScore'].max())\n",
    "ax.legend()\n",
    "\n",
    "\n",
    "plt.show()\n"
   ]
  },
  {
   "cell_type": "markdown",
   "metadata": {},
   "source": [
    "# Clustering based on all the normalized features at once"
   ]
  },
  {
   "cell_type": "markdown",
   "metadata": {},
   "source": [
    "###  Normalizing features to make sure they are comparable. \n",
    "#### I've decided to scale to min and max. However, normalizing to $\\sigma$ = 1 and $\\mu$ = 0 is also another good approach to consider."
   ]
  },
  {
   "cell_type": "code",
   "execution_count": 164,
   "metadata": {},
   "outputs": [
    {
     "name": "stderr",
     "output_type": "stream",
     "text": [
      "C:\\ProgramData\\Anaconda3\\lib\\site-packages\\sklearn\\preprocessing\\data.py:334: DataConversionWarning:\n",
      "\n",
      "Data with input dtype int64, float64 were all converted to float64 by MinMaxScaler.\n",
      "\n"
     ]
    }
   ],
   "source": [
    "\n",
    "from sklearn.preprocessing import StandardScaler\n",
    "from sklearn.preprocessing import Normalizer\n",
    "\n",
    "from sklearn import preprocessing\n",
    "\n",
    "scaler = StandardScaler()\n",
    "\n",
    "#### normalizing the data\n",
    "\n",
    "\n",
    "for_scale =reg[['Recency','f','V','dis_per_v','Ave_lag']]\n",
    "cols = for_scale.columns\n",
    "min_max_scaler = preprocessing.MinMaxScaler()\n",
    "for_scaled = min_max_scaler.fit_transform(for_scale)\n",
    "\n",
    "df_normalized = pd.DataFrame(for_scaled, columns = cols,index = for_scale.index)\n"
   ]
  },
  {
   "cell_type": "code",
   "execution_count": null,
   "metadata": {},
   "outputs": [],
   "source": [
    "for_scale =reg[['Recency','f','V','dis_per_v','Ave_lag']]\n",
    "cols = for_scale.columns\n",
    "robust_scaler = preprocessing.RobustScaler()\n",
    "for_scaled = robust_scaler.fit_transform(for_scale)\n",
    "\n",
    "df_robust = pd.DataFrame(for_scaled, columns = cols,index = for_scale.index)\n"
   ]
  },
  {
   "cell_type": "code",
   "execution_count": 154,
   "metadata": {
    "collapsed": true
   },
   "outputs": [
    {
     "data": {
      "text/plain": [
       "Text(0.5, 1.0, 'Multivariat clustering Elbow curve')"
      ]
     },
     "execution_count": 154,
     "metadata": {},
     "output_type": "execute_result"
    },
    {
     "data": {
      "image/png": "[encoded data removed]",
      "text/plain": [
       "<Figure size 1080x360 with 1 Axes>"
      ]
     },
     "metadata": {
      "needs_background": "light"
     },
     "output_type": "display_data"
    }
   ],
   "source": [
    "# Multivariat clustering\n",
    "\n",
    "distorsions = []\n",
    "for k in range(2, 7):\n",
    "    kmeans = KMeans(n_clusters=k,random_state=10)\n",
    "    kmeans.fit(df_normalized )\n",
    "    distorsions.append(kmeans.inertia_)\n",
    "\n",
    "fig = plt.figure(figsize=(15, 5))\n",
    "plt.plot(range(2, 7), distorsions)\n",
    "plt.grid(True)\n",
    "plt.title('Multivariat clustering Elbow curve')"
   ]
  },
  {
   "cell_type": "code",
   "execution_count": 201,
   "metadata": {},
   "outputs": [],
   "source": [
    "# Multivariat clustering, scaled\n",
    "\n",
    "kmeans = KMeans(n_clusters=4,n_jobs = -1)\n",
    "\n",
    "\n",
    "kmeans.fit(df_normalized)\n",
    "\n",
    "df_normalized['Segments_multivar'] = kmeans.predict(df_normalized)"
   ]
  },
  {
   "cell_type": "code",
   "execution_count": 202,
   "metadata": {},
   "outputs": [],
   "source": [
    "# Merging with initial dataset\n",
    "all = pd.merge(reg, df_normalized, left_index=True, right_index=True,suffixes=('_orig','_Scaled'))\n"
   ]
  },
  {
   "cell_type": "code",
   "execution_count": 18,
   "metadata": {},
   "outputs": [],
   "source": [
    "#all.groupby(['Segments_multivar'])['Recency_orig'].describe()"
   ]
  },
  {
   "cell_type": "code",
   "execution_count": 19,
   "metadata": {},
   "outputs": [],
   "source": [
    "#all.groupby(['Segments_multivar'])['visits_orig'].describe()"
   ]
  },
  {
   "cell_type": "code",
   "execution_count": 20,
   "metadata": {},
   "outputs": [],
   "source": [
    "#all.groupby(['Segments_multivar'])['Vol_sum_orig'].describe()"
   ]
  },
  {
   "cell_type": "code",
   "execution_count": 185,
   "metadata": {},
   "outputs": [
    {
     "name": "stderr",
     "output_type": "stream",
     "text": [
      "C:\\ProgramData\\Anaconda3\\lib\\site-packages\\ipykernel_launcher.py:8: SettingWithCopyWarning:\n",
      "\n",
      "\n",
      "A value is trying to be set on a copy of a slice from a DataFrame.\n",
      "Try using .loc[row_indexer,col_indexer] = value instead\n",
      "\n",
      "See the caveats in the documentation: http://pandas.pydata.org/pandas-docs/stable/indexing.html#indexing-view-versus-copy\n",
      "\n"
     ]
    }
   ],
   "source": [
    "# Multivariat clustering, non-scaled\n",
    "\n",
    "kmeans = KMeans(n_clusters=3,n_jobs = -1)\n",
    "\n",
    "for_scale =reg[['Recency','f','V','dis_per_v']]\n",
    "kmeans.fit(for_scale)\n",
    "\n",
    "for_scale['Segments_multivar'] = kmeans.predict(for_scale)"
   ]
  },
  {
   "cell_type": "code",
   "execution_count": 187,
   "metadata": {},
   "outputs": [],
   "source": [
    "all = pd.merge(reg, for_scale, left_index=True, right_index=True,suffixes=('1','2'))"
   ]
  },
  {
   "cell_type": "code",
   "execution_count": null,
   "metadata": {},
   "outputs": [],
   "source": [
    "\n"
   ]
  },
  {
   "cell_type": "code",
   "execution_count": 21,
   "metadata": {},
   "outputs": [],
   "source": [
    "#all.groupby(['Segments_multivar'])['Recency1'].describe()"
   ]
  },
  {
   "cell_type": "code",
   "execution_count": 196,
   "metadata": {},
   "outputs": [],
   "source": [
    "# Multivariat clustering, robust scaled to  minimize the outlier effect\n",
    "\n",
    "kmeans = KMeans(n_clusters=4,n_jobs = -1)\n",
    "\n",
    "##for_scale =reg[['Recency','visits','Vol_sum','dis_per_visit']]\n",
    "kmeans.fit(df_robust)\n",
    "\n",
    "df_robust['Segments_multivar'] = kmeans.predict(df_robust)"
   ]
  },
  {
   "cell_type": "code",
   "execution_count": 198,
   "metadata": {},
   "outputs": [],
   "source": [
    "all = pd.merge(reg, df_robust, left_index=True, right_index=True,suffixes=('1','2'))"
   ]
  },
  {
   "cell_type": "code",
   "execution_count": 22,
   "metadata": {},
   "outputs": [],
   "source": [
    "#all.groupby(['Segments_multivar'])['Recency1'].describe()"
   ]
  },
  {
   "cell_type": "code",
   "execution_count": null,
   "metadata": {},
   "outputs": [],
   "source": []
  }
 ],
 "metadata": {
  "kernelspec": {
   "display_name": "Python 3",
   "language": "python",
   "name": "python3"
  },
  "language_info": {
   "codemirror_mode": {
    "name": "ipython",
    "version": 3
   },
   "file_extension": ".py",
   "mimetype": "text/x-python",
   "name": "python",
   "nbconvert_exporter": "python",
   "pygments_lexer": "ipython3",
   "version": "3.7.3"
  }
 },
 "nbformat": 4,
 "nbformat_minor": 2
}
