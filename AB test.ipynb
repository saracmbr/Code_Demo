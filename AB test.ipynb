{
 "cells": [
  {
   "cell_type": "markdown",
   "metadata": {},
   "source": [
    "# Designing the experiment"
   ]
  },
  {
   "cell_type": "markdown",
   "metadata": {},
   "source": [
    "1) Hypothesis: create a null hypothesis to test. There is always a null hypothesis H0 and an alternative hypothesis H1 to be tested.\n",
    "null hypothesis is to assume that the two groups have the same distribution, depending on the measured outcome, they have similar mean/median or conversion rate.\n",
    "\n",
    "2) Defining a metric is necessary to be able to measure the performance within the groups. Metrics could be latency (how fast the search algorithm works), \n",
    "conversion rate (CR), click through rate (CTR), mean reciprocal rank (MRR) of clicks, time spent on result pages.\n",
    "we also have to define that the metric measurement is individual or group level.\n",
    "\n",
    "3) sample size, confidence level, statistical power and effect size. To be able to run a A/B testing, enough data points should be collected to achieve \n",
    "a statistically significant results and be able to trust the analysis. It is vital to minimise the type I, II errors which are false positive and\n",
    "false negative rates; respectively. confidence level of 95% and power of 0.9 is desirable. The effect size is about how big is the difference between \n",
    "the groups. To be able to measure small effect sizes of 0.1-0.4 a larger sample is required. To estimate the effect size, previous historical data or pilot runs are required.\n",
    "\n",
    "4) randomization to make sure both groups are representative of the population and are not biased (gender, geographically ...)\n",
    "or at least both groups are biased in the same way. These are the factors that should be controlled for.\n",
    "\n",
    "5) Analysing mean/median of the measured metric such as time spent for each group by using t-test, f-test or z-test. Analysing the difference\n",
    "for binomial outcomes such as conversion rate, chi-squared and z-test could be used.\n"
   ]
  },
  {
   "cell_type": "code",
   "execution_count": null,
   "metadata": {},
   "outputs": [],
   "source": []
  },
  {
   "cell_type": "code",
   "execution_count": 113,
   "metadata": {},
   "outputs": [],
   "source": [
    "import pandas as pd\n",
    "\n",
    "input= pd.read_csv('AB_input.csv',engine=\"python\",index_col=False, delimiter='\\;')"
   ]
  },
  {
   "cell_type": "code",
   "execution_count": 147,
   "metadata": {},
   "outputs": [
    {
     "data": {
      "text/html": [
       "<div>\n",
       "<style scoped>\n",
       "    .dataframe tbody tr th:only-of-type {\n",
       "        vertical-align: middle;\n",
       "    }\n",
       "\n",
       "    .dataframe tbody tr th {\n",
       "        vertical-align: top;\n",
       "    }\n",
       "\n",
       "    .dataframe thead th {\n",
       "        text-align: right;\n",
       "    }\n",
       "</style>\n",
       "<table border=\"1\" class=\"dataframe\">\n",
       "  <thead>\n",
       "    <tr style=\"text-align: right;\">\n",
       "      <th></th>\n",
       "      <th>group_id</th>\n",
       "      <th>session_result</th>\n",
       "      <th>session_count</th>\n",
       "    </tr>\n",
       "    <tr>\n",
       "      <th>date_id</th>\n",
       "      <th></th>\n",
       "      <th></th>\n",
       "      <th></th>\n",
       "    </tr>\n",
       "  </thead>\n",
       "  <tbody>\n",
       "    <tr>\n",
       "      <th>2018-06-25</th>\n",
       "      <td>A</td>\n",
       "      <td>0</td>\n",
       "      <td>763</td>\n",
       "    </tr>\n",
       "    <tr>\n",
       "      <th>2018-06-25</th>\n",
       "      <td>B</td>\n",
       "      <td>0</td>\n",
       "      <td>777</td>\n",
       "    </tr>\n",
       "    <tr>\n",
       "      <th>2018-06-25</th>\n",
       "      <td>A</td>\n",
       "      <td>1</td>\n",
       "      <td>3597</td>\n",
       "    </tr>\n",
       "    <tr>\n",
       "      <th>2018-06-25</th>\n",
       "      <td>B</td>\n",
       "      <td>1</td>\n",
       "      <td>3551</td>\n",
       "    </tr>\n",
       "    <tr>\n",
       "      <th>2018-06-26</th>\n",
       "      <td>A</td>\n",
       "      <td>0</td>\n",
       "      <td>694</td>\n",
       "    </tr>\n",
       "    <tr>\n",
       "      <th>2018-06-26</th>\n",
       "      <td>B</td>\n",
       "      <td>0</td>\n",
       "      <td>869</td>\n",
       "    </tr>\n",
       "    <tr>\n",
       "      <th>2018-06-26</th>\n",
       "      <td>A</td>\n",
       "      <td>1</td>\n",
       "      <td>3353</td>\n",
       "    </tr>\n",
       "    <tr>\n",
       "      <th>2018-06-26</th>\n",
       "      <td>B</td>\n",
       "      <td>1</td>\n",
       "      <td>3514</td>\n",
       "    </tr>\n",
       "    <tr>\n",
       "      <th>2018-06-27</th>\n",
       "      <td>A</td>\n",
       "      <td>0</td>\n",
       "      <td>626</td>\n",
       "    </tr>\n",
       "    <tr>\n",
       "      <th>2018-06-27</th>\n",
       "      <td>B</td>\n",
       "      <td>0</td>\n",
       "      <td>834</td>\n",
       "    </tr>\n",
       "  </tbody>\n",
       "</table>\n",
       "</div>"
      ],
      "text/plain": [
       "           group_id session_result  session_count\n",
       "date_id                                          \n",
       "2018-06-25        A              0            763\n",
       "2018-06-25        B              0            777\n",
       "2018-06-25        A              1           3597\n",
       "2018-06-25        B              1           3551\n",
       "2018-06-26        A              0            694\n",
       "2018-06-26        B              0            869\n",
       "2018-06-26        A              1           3353\n",
       "2018-06-26        B              1           3514\n",
       "2018-06-27        A              0            626\n",
       "2018-06-27        B              0            834"
      ]
     },
     "execution_count": 147,
     "metadata": {},
     "output_type": "execute_result"
    }
   ],
   "source": [
    "#input.set_index('date_id',inplace=True)\n",
    "\n",
    "input.head(10)\n"
   ]
  },
  {
   "cell_type": "markdown",
   "metadata": {},
   "source": [
    "## pivoting table for each group"
   ]
  },
  {
   "cell_type": "code",
   "execution_count": 115,
   "metadata": {},
   "outputs": [
    {
     "name": "stdout",
     "output_type": "stream",
     "text": [
      "<class 'pandas.core.frame.DataFrame'>\n",
      "Index: 40 entries, 2018-06-25 to 2018-07-04\n",
      "Data columns (total 3 columns):\n",
      "group_id          40 non-null object\n",
      "session_result    40 non-null int64\n",
      "session_count     40 non-null int64\n",
      "dtypes: int64(2), object(1)\n",
      "memory usage: 1.2+ KB\n"
     ]
    }
   ],
   "source": [
    "input.info()"
   ]
  },
  {
   "cell_type": "code",
   "execution_count": 116,
   "metadata": {},
   "outputs": [],
   "source": [
    "input[\"session_result\"] = input[\"session_result\"].astype(\"str\")\n"
   ]
  },
  {
   "cell_type": "code",
   "execution_count": 117,
   "metadata": {},
   "outputs": [],
   "source": [
    "import numpy as np\n",
    "input_pv=pd.pivot_table(input, values='session_count', index=['group_id'],\n",
    "                     columns=['session_result'], aggfunc=np.sum)"
   ]
  },
  {
   "cell_type": "code",
   "execution_count": 118,
   "metadata": {},
   "outputs": [
    {
     "data": {
      "text/html": [
       "<div>\n",
       "<style scoped>\n",
       "    .dataframe tbody tr th:only-of-type {\n",
       "        vertical-align: middle;\n",
       "    }\n",
       "\n",
       "    .dataframe tbody tr th {\n",
       "        vertical-align: top;\n",
       "    }\n",
       "\n",
       "    .dataframe thead th {\n",
       "        text-align: right;\n",
       "    }\n",
       "</style>\n",
       "<table border=\"1\" class=\"dataframe\">\n",
       "  <thead>\n",
       "    <tr style=\"text-align: right;\">\n",
       "      <th>session_result</th>\n",
       "      <th>0</th>\n",
       "      <th>1</th>\n",
       "    </tr>\n",
       "    <tr>\n",
       "      <th>group_id</th>\n",
       "      <th></th>\n",
       "      <th></th>\n",
       "    </tr>\n",
       "  </thead>\n",
       "  <tbody>\n",
       "    <tr>\n",
       "      <th>A</th>\n",
       "      <td>11072</td>\n",
       "      <td>31357</td>\n",
       "    </tr>\n",
       "    <tr>\n",
       "      <th>B</th>\n",
       "      <td>10947</td>\n",
       "      <td>34676</td>\n",
       "    </tr>\n",
       "  </tbody>\n",
       "</table>\n",
       "</div>"
      ],
      "text/plain": [
       "session_result      0      1\n",
       "group_id                    \n",
       "A               11072  31357\n",
       "B               10947  34676"
      ]
     },
     "execution_count": 118,
     "metadata": {},
     "output_type": "execute_result"
    }
   ],
   "source": [
    "input_pv\n"
   ]
  },
  {
   "cell_type": "code",
   "execution_count": 119,
   "metadata": {},
   "outputs": [],
   "source": [
    "input_pv['session_total']=input_pv['0']+input_pv['1']"
   ]
  },
  {
   "cell_type": "code",
   "execution_count": 120,
   "metadata": {},
   "outputs": [],
   "source": [
    "input_pv['success_rate']=(input_pv['1']/input_pv['session_total'])*100"
   ]
  },
  {
   "cell_type": "code",
   "execution_count": 81,
   "metadata": {},
   "outputs": [
    {
     "data": {
      "text/plain": [
       "1.0752787008885432"
      ]
     },
     "execution_count": 81,
     "metadata": {},
     "output_type": "execute_result"
    }
   ],
   "source": [
    "ratio=(45623/42429)\n",
    "ratio"
   ]
  },
  {
   "cell_type": "code",
   "execution_count": 121,
   "metadata": {},
   "outputs": [
    {
     "data": {
      "text/html": [
       "<div>\n",
       "<style scoped>\n",
       "    .dataframe tbody tr th:only-of-type {\n",
       "        vertical-align: middle;\n",
       "    }\n",
       "\n",
       "    .dataframe tbody tr th {\n",
       "        vertical-align: top;\n",
       "    }\n",
       "\n",
       "    .dataframe thead th {\n",
       "        text-align: right;\n",
       "    }\n",
       "</style>\n",
       "<table border=\"1\" class=\"dataframe\">\n",
       "  <thead>\n",
       "    <tr style=\"text-align: right;\">\n",
       "      <th>session_result</th>\n",
       "      <th>0</th>\n",
       "      <th>1</th>\n",
       "      <th>session_total</th>\n",
       "      <th>success_rate</th>\n",
       "    </tr>\n",
       "    <tr>\n",
       "      <th>group_id</th>\n",
       "      <th></th>\n",
       "      <th></th>\n",
       "      <th></th>\n",
       "      <th></th>\n",
       "    </tr>\n",
       "  </thead>\n",
       "  <tbody>\n",
       "    <tr>\n",
       "      <th>A</th>\n",
       "      <td>11072</td>\n",
       "      <td>31357</td>\n",
       "      <td>42429</td>\n",
       "      <td>73.904641</td>\n",
       "    </tr>\n",
       "    <tr>\n",
       "      <th>B</th>\n",
       "      <td>10947</td>\n",
       "      <td>34676</td>\n",
       "      <td>45623</td>\n",
       "      <td>76.005524</td>\n",
       "    </tr>\n",
       "  </tbody>\n",
       "</table>\n",
       "</div>"
      ],
      "text/plain": [
       "session_result      0      1  session_total  success_rate\n",
       "group_id                                                 \n",
       "A               11072  31357          42429     73.904641\n",
       "B               10947  34676          45623     76.005524"
      ]
     },
     "execution_count": 121,
     "metadata": {},
     "output_type": "execute_result"
    }
   ],
   "source": [
    "input_pv"
   ]
  },
  {
   "cell_type": "code",
   "execution_count": 85,
   "metadata": {},
   "outputs": [
    {
     "data": {
      "text/plain": [
       "session_result\n",
       "0    11072\n",
       "1    31357\n",
       "Name: session_count, dtype: int64"
      ]
     },
     "execution_count": 85,
     "metadata": {},
     "output_type": "execute_result"
    }
   ],
   "source": [
    "input[input['group_id']=='A'].groupby(['session_result'])['session_count'].sum()"
   ]
  },
  {
   "cell_type": "markdown",
   "metadata": {},
   "source": [
    "# A/B testing analysis "
   ]
  },
  {
   "cell_type": "markdown",
   "metadata": {},
   "source": [
    "Group B has higher conversion rate.\n",
    "\n",
    "The hypothesis to test are:\n",
    " H₀: group A and B, both have the same convertion rate\n",
    " H₁: group B has the higher conversion rate"
   ]
  },
  {
   "cell_type": "code",
   "execution_count": 122,
   "metadata": {},
   "outputs": [
    {
     "data": {
      "text/plain": [
       "0.7499318584472812"
      ]
     },
     "execution_count": 122,
     "metadata": {},
     "output_type": "execute_result"
    }
   ],
   "source": [
    "# to test the null hypothesis, we calculate the expected conversion rate if both groups were the same\n",
    "cr_ex= sum(input_pv['1'])/sum(input_pv['session_total'])\n",
    "cr_ex"
   ]
  },
  {
   "cell_type": "code",
   "execution_count": 123,
   "metadata": {},
   "outputs": [
    {
     "data": {
      "text/html": [
       "<div>\n",
       "<style scoped>\n",
       "    .dataframe tbody tr th:only-of-type {\n",
       "        vertical-align: middle;\n",
       "    }\n",
       "\n",
       "    .dataframe tbody tr th {\n",
       "        vertical-align: top;\n",
       "    }\n",
       "\n",
       "    .dataframe thead th {\n",
       "        text-align: right;\n",
       "    }\n",
       "</style>\n",
       "<table border=\"1\" class=\"dataframe\">\n",
       "  <thead>\n",
       "    <tr style=\"text-align: right;\">\n",
       "      <th>session_result</th>\n",
       "      <th>0</th>\n",
       "      <th>1</th>\n",
       "      <th>session_total</th>\n",
       "      <th>success_rate</th>\n",
       "      <th>1_ex</th>\n",
       "      <th>0_ex</th>\n",
       "    </tr>\n",
       "    <tr>\n",
       "      <th>group_id</th>\n",
       "      <th></th>\n",
       "      <th></th>\n",
       "      <th></th>\n",
       "      <th></th>\n",
       "      <th></th>\n",
       "      <th></th>\n",
       "    </tr>\n",
       "  </thead>\n",
       "  <tbody>\n",
       "    <tr>\n",
       "      <th>A</th>\n",
       "      <td>11072</td>\n",
       "      <td>31357</td>\n",
       "      <td>42429</td>\n",
       "      <td>73.904641</td>\n",
       "      <td>31819</td>\n",
       "      <td>10610</td>\n",
       "    </tr>\n",
       "    <tr>\n",
       "      <th>B</th>\n",
       "      <td>10947</td>\n",
       "      <td>34676</td>\n",
       "      <td>45623</td>\n",
       "      <td>76.005524</td>\n",
       "      <td>34214</td>\n",
       "      <td>11409</td>\n",
       "    </tr>\n",
       "  </tbody>\n",
       "</table>\n",
       "</div>"
      ],
      "text/plain": [
       "session_result      0      1  session_total  success_rate   1_ex   0_ex\n",
       "group_id                                                               \n",
       "A               11072  31357          42429     73.904641  31819  10610\n",
       "B               10947  34676          45623     76.005524  34214  11409"
      ]
     },
     "execution_count": 123,
     "metadata": {},
     "output_type": "execute_result"
    }
   ],
   "source": [
    "input_pv['1_ex']=(cr_ex*input_pv['session_total']).round().astype(int)\n",
    "input_pv['0_ex']=input_pv['session_total']-input_pv['1_ex']\n",
    "\n",
    "input_pv"
   ]
  },
  {
   "cell_type": "code",
   "execution_count": 146,
   "metadata": {},
   "outputs": [
    {
     "name": "stdout",
     "output_type": "stream",
     "text": [
      "distance : 51.772202360956705\n",
      "p-value: 6.232801498429553e-13\n"
     ]
    }
   ],
   "source": [
    "from scipy.stats import chi2\n",
    "\n",
    "\n",
    "ex = np.array([input_pv['1_ex'].iloc[0], input_pv['1_ex'].iloc[1], input_pv['0_ex'].iloc[0], input_pv['0_ex'].iloc[1]])\n",
    "obs = np.array([input_pv['1'].iloc[0], input_pv['1'].iloc[1], input_pv['0'].iloc[0], input_pv['0'].iloc[1]])\n",
    "\n",
    "dis = np.sum(np.square(ex-obs)/ex)\n",
    "\n",
    "pval = chi2.sf(dis, df=1)\n",
    "\n",
    "print(\"distance : {0}\\np-value: {1}\".format(dis,pval))"
   ]
  },
  {
   "cell_type": "markdown",
   "metadata": {},
   "source": [
    "I use confidence level of 95% so alpha=0.05.\n",
    "The p-value above is much smaller than alpha (P-value << alpha). \n",
    "This means that we can reject the null hypothesis which was that conversion rate in groups A and are the same.\n"
   ]
  },
  {
   "cell_type": "markdown",
   "metadata": {},
   "source": [
    "# Z Test as an altenative approach"
   ]
  },
  {
   "cell_type": "code",
   "execution_count": 125,
   "metadata": {},
   "outputs": [
    {
     "name": "stdout",
     "output_type": "stream",
     "text": [
      "Z-score: 7.187913851513395\n",
      "p-value: 3.289437404838372e-13\n"
     ]
    }
   ],
   "source": [
    "from scipy.stats import norm\n",
    "\n",
    "mu_A = input_pv['success_rate'].iloc[0]/100\n",
    "mu_B = input_pv['success_rate'].iloc[1]/100\n",
    "\n",
    "var_B = mu_B * (1-mu_B)\n",
    "var_A = mu_A * (1-mu_A)\n",
    "\n",
    "n_A = input_pv['session_total'].iloc[0]\n",
    "n_B = input_pv['session_total'].iloc[1]\n",
    "\n",
    "Z = (mu_B - mu_A)/np.sqrt(var_B/n_B + var_A/n_A)\n",
    "pval = norm.sf(Z)\n",
    "\n",
    "print(\"Z-score: {0}\\np-value: {1}\".format(Z,pval))\n"
   ]
  },
  {
   "cell_type": "markdown",
   "metadata": {},
   "source": [
    "The result of Z test shows that the P value << 0.05. Again this means that we are safe to reject the null hypothesis."
   ]
  },
  {
   "cell_type": "markdown",
   "metadata": {},
   "source": [
    "# Calculating Statistical Power:"
   ]
  },
  {
   "cell_type": "markdown",
   "metadata": {},
   "source": [
    "The effect size in the binomial A/B testing can be relative conversion proportion. \n",
    "\n",
    "In our case, effect size is:"
   ]
  },
  {
   "cell_type": "code",
   "execution_count": 140,
   "metadata": {},
   "outputs": [
    {
     "data": {
      "text/plain": [
       "0.04850306233040932"
      ]
     },
     "execution_count": 140,
     "metadata": {},
     "output_type": "execute_result"
    }
   ],
   "source": [
    "#effect= (input_pv['success_rate'].iloc[1]/input_pv['success_rate'].iloc[0])-1\n",
    "\n",
    "effect = (mu_B - mu_A) / (np.sqrt((var_B  + var_A) / 2))\n",
    "effect\n"
   ]
  },
  {
   "cell_type": "code",
   "execution_count": 143,
   "metadata": {},
   "outputs": [
    {
     "data": {
      "text/plain": [
       "0.9999999159718144"
      ]
     },
     "execution_count": 143,
     "metadata": {},
     "output_type": "execute_result"
    }
   ],
   "source": [
    "from statsmodels.stats.power import zt_ind_solve_power\n",
    "power = zt_ind_solve_power(effect, nobs1=42429, ratio=ratio, alpha=0.05,power=None)\n",
    "power"
   ]
  },
  {
   "cell_type": "markdown",
   "metadata": {},
   "source": [
    "Power analysis shows the probability of rejecting the null hypothesis H0 when the alternative hypothesis H1 is the hypothesis that is true."
   ]
  }
 ],
 "metadata": {
  "kernelspec": {
   "display_name": "Python 3",
   "language": "python",
   "name": "python3"
  },
  "language_info": {
   "codemirror_mode": {
    "name": "ipython",
    "version": 3
   },
   "file_extension": ".py",
   "mimetype": "text/x-python",
   "name": "python",
   "nbconvert_exporter": "python",
   "pygments_lexer": "ipython3",
   "version": "3.7.3"
  }
 },
 "nbformat": 4,
 "nbformat_minor": 2
}
